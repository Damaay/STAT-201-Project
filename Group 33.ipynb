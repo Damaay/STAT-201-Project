{
 "cells": [
  {
   "cell_type": "markdown",
   "id": "a242000d-1598-4a71-af23-a457655d09c4",
   "metadata": {},
   "source": [
    "## 1. Introduction"
   ]
  },
  {
   "cell_type": "markdown",
   "id": "538552f5-a507-427c-ac08-38a236c4c073",
   "metadata": {},
   "source": [
    "#### 1.1 Background Information"
   ]
  },
  {
   "cell_type": "markdown",
   "id": "6f5096fe-860f-48de-94ce-10297a2fa472",
   "metadata": {},
   "source": [
    "According to Deloitte Digital (2015), digital interactions are expected to influence 64 cents\n",
    "of every dollar spent in retail stores by the end of 2015, meaning that social media is increasing its direct impact on companies' revenues. Combined that with the acceleration of social media use in the pandemic, it's key for companies to understand what will engage consumers the most. \n",
    "\n",
    "Therefore, we will compare average Lifetime Post Total Consumptions/Lifetime Post Total Impressions ratio between different types of content (Status, Photo, Link, Video) and find out if there is a statistical difference between them. The idea being we want to see how effective each type of content is when converting looks into engagement."
   ]
  },
  {
   "cell_type": "markdown",
   "id": "db4511f4-6db6-48e0-a658-f11b0c0aaf0f",
   "metadata": {},
   "source": [
    "#### 1.2 Dataset Description"
   ]
  },
  {
   "cell_type": "markdown",
   "id": "1213270d-0079-433b-90e1-097d59656c20",
   "metadata": {},
   "source": [
    "// TODO: add brief description of dataset and explain what the variables of interest represent"
   ]
  },
  {
   "cell_type": "markdown",
   "id": "5d2c87ca-cc6f-4eb9-bdd5-10e7d5694a5b",
   "metadata": {
    "tags": []
   },
   "source": [
    "## 2. Preliminary Results"
   ]
  },
  {
   "cell_type": "markdown",
   "id": "e2d1e67d-7d02-4138-9fa9-9132ce2d64f4",
   "metadata": {
    "tags": []
   },
   "source": [
    "#### 2.1 Reading the Data"
   ]
  },
  {
   "cell_type": "code",
   "execution_count": 92,
   "id": "e5683058-e74a-4ed1-9cf0-db4cd89c939c",
   "metadata": {},
   "outputs": [
    {
     "name": "stderr",
     "output_type": "stream",
     "text": [
      "\u001b[1mRows: \u001b[22m\u001b[34m500\u001b[39m \u001b[1mColumns: \u001b[22m\u001b[34m19\u001b[39m\n",
      "\n",
      "\u001b[36m──\u001b[39m \u001b[1mColumn specification\u001b[22m \u001b[36m────────────────────────────────────────────────────────\u001b[39m\n",
      "\u001b[1mDelimiter:\u001b[22m \";\"\n",
      "\u001b[31mchr\u001b[39m  (1): Type\n",
      "\u001b[32mdbl\u001b[39m (18): Page total likes, Category, Post Month, Post Weekday, Post Hour, P...\n",
      "\n",
      "\n",
      "\u001b[36mℹ\u001b[39m Use \u001b[30m\u001b[47m\u001b[30m\u001b[47m`spec()`\u001b[47m\u001b[30m\u001b[49m\u001b[39m to retrieve the full column specification for this data.\n",
      "\u001b[36mℹ\u001b[39m Specify the column types or set \u001b[30m\u001b[47m\u001b[30m\u001b[47m`show_col_types = FALSE`\u001b[47m\u001b[30m\u001b[49m\u001b[39m to quiet this message.\n",
      "\n"
     ]
    }
   ],
   "source": [
    "# Load the required libraries\n",
    "library(tidyverse)\n",
    "\n",
    "# Here we read the data set straight from the web\n",
    "# The original source is linked here (https://archive.ics.uci.edu/ml/datasets/Facebook+metrics)\n",
    "temp <- tempfile()\n",
    "download.file(\"https://archive.ics.uci.edu/ml/machine-learning-databases/00368/Facebook_metrics.zip\",temp)\n",
    "data <- read_delim(unz(temp, \"dataset_Facebook.csv\"), delim=\";\")\n",
    "unlink(temp)"
   ]
  },
  {
   "cell_type": "markdown",
   "id": "f373f37e-4281-4e89-a7da-a8d37068fc25",
   "metadata": {},
   "source": [
    "#### 2.2 Cleaning the Data"
   ]
  },
  {
   "cell_type": "code",
   "execution_count": 93,
   "id": "d7fcff87-f40c-4be1-92c9-b9c34deff84e",
   "metadata": {},
   "outputs": [
    {
     "data": {
      "text/html": [
       "<table class=\"dataframe\">\n",
       "<caption>A tibble: 6 × 3</caption>\n",
       "<thead>\n",
       "\t<tr><th scope=col>Type</th><th scope=col>LifetimeImpressions</th><th scope=col>LifetimeConsumptions</th></tr>\n",
       "\t<tr><th scope=col>&lt;chr&gt;</th><th scope=col>&lt;dbl&gt;</th><th scope=col>&lt;dbl&gt;</th></tr>\n",
       "</thead>\n",
       "<tbody>\n",
       "\t<tr><td>Photo </td><td> 5091</td><td> 159</td></tr>\n",
       "\t<tr><td>Status</td><td>19057</td><td>1674</td></tr>\n",
       "\t<tr><td>Photo </td><td> 4373</td><td> 154</td></tr>\n",
       "\t<tr><td>Photo </td><td>87991</td><td>1119</td></tr>\n",
       "\t<tr><td>Photo </td><td>13594</td><td> 580</td></tr>\n",
       "\t<tr><td>Status</td><td>20849</td><td>1389</td></tr>\n",
       "</tbody>\n",
       "</table>\n"
      ],
      "text/latex": [
       "A tibble: 6 × 3\n",
       "\\begin{tabular}{lll}\n",
       " Type & LifetimeImpressions & LifetimeConsumptions\\\\\n",
       " <chr> & <dbl> & <dbl>\\\\\n",
       "\\hline\n",
       "\t Photo  &  5091 &  159\\\\\n",
       "\t Status & 19057 & 1674\\\\\n",
       "\t Photo  &  4373 &  154\\\\\n",
       "\t Photo  & 87991 & 1119\\\\\n",
       "\t Photo  & 13594 &  580\\\\\n",
       "\t Status & 20849 & 1389\\\\\n",
       "\\end{tabular}\n"
      ],
      "text/markdown": [
       "\n",
       "A tibble: 6 × 3\n",
       "\n",
       "| Type &lt;chr&gt; | LifetimeImpressions &lt;dbl&gt; | LifetimeConsumptions &lt;dbl&gt; |\n",
       "|---|---|---|\n",
       "| Photo  |  5091 |  159 |\n",
       "| Status | 19057 | 1674 |\n",
       "| Photo  |  4373 |  154 |\n",
       "| Photo  | 87991 | 1119 |\n",
       "| Photo  | 13594 |  580 |\n",
       "| Status | 20849 | 1389 |\n",
       "\n"
      ],
      "text/plain": [
       "  Type   LifetimeImpressions LifetimeConsumptions\n",
       "1 Photo   5091                159                \n",
       "2 Status 19057               1674                \n",
       "3 Photo   4373                154                \n",
       "4 Photo  87991               1119                \n",
       "5 Photo  13594                580                \n",
       "6 Status 20849               1389                "
      ]
     },
     "metadata": {},
     "output_type": "display_data"
    }
   ],
   "source": [
    "# First remove spaces from the column names\n",
    "names(data)<-make.names(names(data),unique = TRUE)\n",
    "\n",
    "# Select only the variables of interest\n",
    "data_selected = data %>%\n",
    "    select(Type, Lifetime.Post.Total.Impressions, Lifetime.Post.Consumptions) %>%\n",
    "    filter(!is.na(Type))\n",
    "\n",
    "# Assign new more manageable column names\n",
    "names(data_selected) <- c(\"Type\", \"LifetimeImpressions\", \"LifetimeConsumptions\")\n",
    "\n",
    "# Preview the clean dataset\n",
    "head(data_selected)"
   ]
  },
  {
   "cell_type": "markdown",
   "id": "24dbe798-5470-4cff-bed4-6b8b6810fa48",
   "metadata": {},
   "source": [
    "#### 2.3 Data Summary"
   ]
  },
  {
   "cell_type": "code",
   "execution_count": 96,
   "id": "b45a29bb-d589-48e0-8db4-2ee9d5516a91",
   "metadata": {},
   "outputs": [
    {
     "data": {
      "text/html": [
       "<table class=\"dataframe\">\n",
       "<caption>A tibble: 4 × 4</caption>\n",
       "<thead>\n",
       "\t<tr><th scope=col>Type</th><th scope=col>MeanImpressions</th><th scope=col>MeanConsumptions</th><th scope=col>Num</th></tr>\n",
       "\t<tr><th scope=col>&lt;chr&gt;</th><th scope=col>&lt;dbl&gt;</th><th scope=col>&lt;dbl&gt;</th><th scope=col>&lt;int&gt;</th></tr>\n",
       "</thead>\n",
       "<tbody>\n",
       "\t<tr><td>Link  </td><td> 28725.45</td><td> 374.0909</td><td> 22</td></tr>\n",
       "\t<tr><td>Photo </td><td> 28994.50</td><td>1299.0258</td><td>426</td></tr>\n",
       "\t<tr><td>Status</td><td> 24244.47</td><td>2838.8667</td><td> 45</td></tr>\n",
       "\t<tr><td>Video </td><td>102622.43</td><td>2600.1429</td><td>  7</td></tr>\n",
       "</tbody>\n",
       "</table>\n"
      ],
      "text/latex": [
       "A tibble: 4 × 4\n",
       "\\begin{tabular}{llll}\n",
       " Type & MeanImpressions & MeanConsumptions & Num\\\\\n",
       " <chr> & <dbl> & <dbl> & <int>\\\\\n",
       "\\hline\n",
       "\t Link   &  28725.45 &  374.0909 &  22\\\\\n",
       "\t Photo  &  28994.50 & 1299.0258 & 426\\\\\n",
       "\t Status &  24244.47 & 2838.8667 &  45\\\\\n",
       "\t Video  & 102622.43 & 2600.1429 &   7\\\\\n",
       "\\end{tabular}\n"
      ],
      "text/markdown": [
       "\n",
       "A tibble: 4 × 4\n",
       "\n",
       "| Type &lt;chr&gt; | MeanImpressions &lt;dbl&gt; | MeanConsumptions &lt;dbl&gt; | Num &lt;int&gt; |\n",
       "|---|---|---|---|\n",
       "| Link   |  28725.45 |  374.0909 |  22 |\n",
       "| Photo  |  28994.50 | 1299.0258 | 426 |\n",
       "| Status |  24244.47 | 2838.8667 |  45 |\n",
       "| Video  | 102622.43 | 2600.1429 |   7 |\n",
       "\n"
      ],
      "text/plain": [
       "  Type   MeanImpressions MeanConsumptions Num\n",
       "1 Link    28725.45        374.0909         22\n",
       "2 Photo   28994.50       1299.0258        426\n",
       "3 Status  24244.47       2838.8667         45\n",
       "4 Video  102622.43       2600.1429          7"
      ]
     },
     "metadata": {},
     "output_type": "display_data"
    },
    {
     "data": {
      "text/html": [
       "<table class=\"dataframe\">\n",
       "<caption>A tibble: 8 × 3</caption>\n",
       "<thead>\n",
       "\t<tr><th scope=col>Type</th><th scope=col>variable</th><th scope=col>value</th></tr>\n",
       "\t<tr><th scope=col>&lt;chr&gt;</th><th scope=col>&lt;chr&gt;</th><th scope=col>&lt;dbl&gt;</th></tr>\n",
       "</thead>\n",
       "<tbody>\n",
       "\t<tr><td>Link  </td><td>MeanImpressions </td><td> 28725.4545</td></tr>\n",
       "\t<tr><td>Link  </td><td>MeanConsumptions</td><td>   374.0909</td></tr>\n",
       "\t<tr><td>Photo </td><td>MeanImpressions </td><td> 28994.4977</td></tr>\n",
       "\t<tr><td>Photo </td><td>MeanConsumptions</td><td>  1299.0258</td></tr>\n",
       "\t<tr><td>Status</td><td>MeanImpressions </td><td> 24244.4667</td></tr>\n",
       "\t<tr><td>Status</td><td>MeanConsumptions</td><td>  2838.8667</td></tr>\n",
       "\t<tr><td>Video </td><td>MeanImpressions </td><td>102622.4286</td></tr>\n",
       "\t<tr><td>Video </td><td>MeanConsumptions</td><td>  2600.1429</td></tr>\n",
       "</tbody>\n",
       "</table>\n"
      ],
      "text/latex": [
       "A tibble: 8 × 3\n",
       "\\begin{tabular}{lll}\n",
       " Type & variable & value\\\\\n",
       " <chr> & <chr> & <dbl>\\\\\n",
       "\\hline\n",
       "\t Link   & MeanImpressions  &  28725.4545\\\\\n",
       "\t Link   & MeanConsumptions &    374.0909\\\\\n",
       "\t Photo  & MeanImpressions  &  28994.4977\\\\\n",
       "\t Photo  & MeanConsumptions &   1299.0258\\\\\n",
       "\t Status & MeanImpressions  &  24244.4667\\\\\n",
       "\t Status & MeanConsumptions &   2838.8667\\\\\n",
       "\t Video  & MeanImpressions  & 102622.4286\\\\\n",
       "\t Video  & MeanConsumptions &   2600.1429\\\\\n",
       "\\end{tabular}\n"
      ],
      "text/markdown": [
       "\n",
       "A tibble: 8 × 3\n",
       "\n",
       "| Type &lt;chr&gt; | variable &lt;chr&gt; | value &lt;dbl&gt; |\n",
       "|---|---|---|\n",
       "| Link   | MeanImpressions  |  28725.4545 |\n",
       "| Link   | MeanConsumptions |    374.0909 |\n",
       "| Photo  | MeanImpressions  |  28994.4977 |\n",
       "| Photo  | MeanConsumptions |   1299.0258 |\n",
       "| Status | MeanImpressions  |  24244.4667 |\n",
       "| Status | MeanConsumptions |   2838.8667 |\n",
       "| Video  | MeanImpressions  | 102622.4286 |\n",
       "| Video  | MeanConsumptions |   2600.1429 |\n",
       "\n"
      ],
      "text/plain": [
       "  Type   variable         value      \n",
       "1 Link   MeanImpressions   28725.4545\n",
       "2 Link   MeanConsumptions    374.0909\n",
       "3 Photo  MeanImpressions   28994.4977\n",
       "4 Photo  MeanConsumptions   1299.0258\n",
       "5 Status MeanImpressions   24244.4667\n",
       "6 Status MeanConsumptions   2838.8667\n",
       "7 Video  MeanImpressions  102622.4286\n",
       "8 Video  MeanConsumptions   2600.1429"
      ]
     },
     "metadata": {},
     "output_type": "display_data"
    }
   ],
   "source": [
    "# Here we will provide a summary of the dataset\n",
    "data_summary <- data_selected %>%\n",
    "    group_by(Type) %>%\n",
    "    summarise(MeanImpressions = mean(LifetimeImpressions), MeanConsumptions = mean(LifetimeConsumptions), Num = sum(Type == Type))\n",
    "data_summary\n",
    "\n",
    "data_summary_longer <- data_summary %>%\n",
    "    select(Type, MeanImpressions, MeanConsumptions) %>%\n",
    "    pivot_longer(cols=c('MeanImpressions', 'MeanConsumptions'), names_to='variable', values_to='value')\n",
    "\n",
    "data_summary_longer"
   ]
  },
  {
   "cell_type": "code",
   "execution_count": 110,
   "id": "bcb6d2e5-991c-49bc-bf37-5bdc7098777e",
   "metadata": {},
   "outputs": [
    {
     "data": {
      "image/png": "[encoded data removed]",
      "text/plain": [
       "plot without title"
      ]
     },
     "metadata": {
      "image/png": {
       "height": 420,
       "width": 420
      }
     },
     "output_type": "display_data"
    }
   ],
   "source": [
    "data_summary_plot <- data_summary_longer %>%\n",
    "    ggplot(aes(x=Type, y=value, fill=variable)) +\n",
    "    geom_bar(stat='identity', position='dodge')\n",
    "data_summary_plot"
   ]
  },
  {
   "cell_type": "code",
   "execution_count": null,
   "id": "08fd685e-eb60-4343-a781-6ce511afb4e3",
   "metadata": {},
   "outputs": [],
   "source": []
  }
 ],
 "metadata": {
  "kernelspec": {
   "display_name": "R",
   "language": "R",
   "name": "ir"
  },
  "language_info": {
   "codemirror_mode": "r",
   "file_extension": ".r",
   "mimetype": "text/x-r-source",
   "name": "R",
   "pygments_lexer": "r",
   "version": "4.1.2"
  }
 },
 "nbformat": 4,
 "nbformat_minor": 5
}

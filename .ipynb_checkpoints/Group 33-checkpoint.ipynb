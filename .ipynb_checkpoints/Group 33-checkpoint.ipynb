{
 "cells": [
  {
   "cell_type": "markdown",
   "id": "a21a8a2b",
   "metadata": {},
   "source": [
    "## 1. Introduction"
   ]
  },
  {
   "cell_type": "markdown",
   "id": "9228af4f",
   "metadata": {},
   "source": [
    "#### 1.1 Background Information"
   ]
  },
  {
   "cell_type": "markdown",
   "id": "dd254685",
   "metadata": {},
   "source": [
    "According to Deloitte Digital (2015), digital interactions are expected to influence 64 cents\n",
    "of every dollar spent in retail stores by the end of 2015, meaning that social media is increasing its direct impact on companies' revenues. Combine that with the acceleration of social media use in the pandemic, it's key for companies to understand what will engage consumers the most. \n",
    "\n",
    "Therefore, we will compare average Lifetime Post Consumptions/Lifetime Post Total Impressions ratio between different types of content (Status, Photo, Link, Video) and find out if there is a statistical difference between them. The idea being we want to see how effective each type of content is when converting looks into engagement."
   ]
  },
  {
   "cell_type": "markdown",
   "id": "ac0afb6f",
   "metadata": {},
   "source": [
    "#### 1.2 Dataset Description"
   ]
  },
  {
   "cell_type": "markdown",
   "id": "5441477b",
   "metadata": {},
   "source": [
    "The dataset is a compilation of 500 different facebook posts by a cosmetics brand. Each observation includes important information on the post including the following variables of interest for this report:\n",
    "\n",
    "- Type: The type of facebook post (Video, Photo etc).\n",
    "- Lifetime Impressions: This is the number of times the post is displayed. For example on someones personal feed. The post does not have to be clicked to count as an impression.\n",
    "- Lifetime Consumptions: This is the total number of clicks anywhere on the post."
   ]
  },
  {
   "cell_type": "markdown",
   "id": "0985bbaf",
   "metadata": {
    "tags": []
   },
   "source": [
    "## 2. Preliminary Results"
   ]
  },
  {
   "cell_type": "markdown",
   "id": "eb70338b",
   "metadata": {
    "tags": []
   },
   "source": [
    "#### 2.1 Reading the Data"
   ]
  },
  {
   "cell_type": "code",
   "execution_count": 57,
   "id": "fa64e184",
   "metadata": {},
   "outputs": [
    {
     "name": "stderr",
     "output_type": "stream",
     "text": [
      "\u001b[1mRows: \u001b[22m\u001b[34m500\u001b[39m \u001b[1mColumns: \u001b[22m\u001b[34m19\u001b[39m\n",
      "\n",
      "\u001b[36m──\u001b[39m \u001b[1mColumn specification\u001b[22m \u001b[36m────────────────────────────────────────────────────────\u001b[39m\n",
      "\u001b[1mDelimiter:\u001b[22m \";\"\n",
      "\u001b[31mchr\u001b[39m  (1): Type\n",
      "\u001b[32mdbl\u001b[39m (18): Page total likes, Category, Post Month, Post Weekday, Post Hour, P...\n",
      "\n",
      "\n",
      "\u001b[36mℹ\u001b[39m Use \u001b[30m\u001b[47m\u001b[30m\u001b[47m`spec()`\u001b[47m\u001b[30m\u001b[49m\u001b[39m to retrieve the full column specification for this data.\n",
      "\u001b[36mℹ\u001b[39m Specify the column types or set \u001b[30m\u001b[47m\u001b[30m\u001b[47m`show_col_types = FALSE`\u001b[47m\u001b[30m\u001b[49m\u001b[39m to quiet this message.\n",
      "\n"
     ]
    }
   ],
   "source": [
    "# Load the required libraries\n",
    "library(tidyverse)\n",
    "library(cowplot)\n",
    "library(digest)\n",
    "library(gridExtra)\n",
    "library(infer)\n",
    "library(repr)\n",
    "library(tidyverse)\n",
    "set.seed(1)\n",
    "\n",
    "# Here we read the data set straight from the web\n",
    "# The original source is linked here (https://archive.ics.uci.edu/ml/datasets/Facebook+metrics)\n",
    "temp <- tempfile()\n",
    "download.file(\"https://archive.ics.uci.edu/ml/machine-learning-databases/00368/Facebook_metrics.zip\",temp)\n",
    "data <- read_delim(unz(temp, \"dataset_Facebook.csv\"), delim=\";\")\n",
    "unlink(temp)"
   ]
  },
  {
   "cell_type": "markdown",
   "id": "a9883037",
   "metadata": {},
   "source": [
    "#### 2.2 Cleaning the Data"
   ]
  },
  {
   "cell_type": "code",
   "execution_count": 58,
   "id": "08533e05",
   "metadata": {},
   "outputs": [
    {
     "data": {
      "text/html": [
       "<table class=\"dataframe\">\n",
       "<caption>A tibble: 6 × 4</caption>\n",
       "<thead>\n",
       "\t<tr><th scope=col>Type</th><th scope=col>LifetimeImpressions</th><th scope=col>LifetimeConsumptions</th><th scope=col>ConsumptionsOverImpressions</th></tr>\n",
       "\t<tr><th scope=col>&lt;chr&gt;</th><th scope=col>&lt;dbl&gt;</th><th scope=col>&lt;dbl&gt;</th><th scope=col>&lt;dbl&gt;</th></tr>\n",
       "</thead>\n",
       "<tbody>\n",
       "\t<tr><td>Photo </td><td> 5091</td><td> 159</td><td>0.03123159</td></tr>\n",
       "\t<tr><td>Status</td><td>19057</td><td>1674</td><td>0.08784174</td></tr>\n",
       "\t<tr><td>Photo </td><td> 4373</td><td> 154</td><td>0.03521610</td></tr>\n",
       "\t<tr><td>Photo </td><td>87991</td><td>1119</td><td>0.01271721</td></tr>\n",
       "\t<tr><td>Photo </td><td>13594</td><td> 580</td><td>0.04266588</td></tr>\n",
       "\t<tr><td>Status</td><td>20849</td><td>1389</td><td>0.06662190</td></tr>\n",
       "</tbody>\n",
       "</table>\n"
      ],
      "text/latex": [
       "A tibble: 6 × 4\n",
       "\\begin{tabular}{llll}\n",
       " Type & LifetimeImpressions & LifetimeConsumptions & ConsumptionsOverImpressions\\\\\n",
       " <chr> & <dbl> & <dbl> & <dbl>\\\\\n",
       "\\hline\n",
       "\t Photo  &  5091 &  159 & 0.03123159\\\\\n",
       "\t Status & 19057 & 1674 & 0.08784174\\\\\n",
       "\t Photo  &  4373 &  154 & 0.03521610\\\\\n",
       "\t Photo  & 87991 & 1119 & 0.01271721\\\\\n",
       "\t Photo  & 13594 &  580 & 0.04266588\\\\\n",
       "\t Status & 20849 & 1389 & 0.06662190\\\\\n",
       "\\end{tabular}\n"
      ],
      "text/markdown": [
       "\n",
       "A tibble: 6 × 4\n",
       "\n",
       "| Type &lt;chr&gt; | LifetimeImpressions &lt;dbl&gt; | LifetimeConsumptions &lt;dbl&gt; | ConsumptionsOverImpressions &lt;dbl&gt; |\n",
       "|---|---|---|---|\n",
       "| Photo  |  5091 |  159 | 0.03123159 |\n",
       "| Status | 19057 | 1674 | 0.08784174 |\n",
       "| Photo  |  4373 |  154 | 0.03521610 |\n",
       "| Photo  | 87991 | 1119 | 0.01271721 |\n",
       "| Photo  | 13594 |  580 | 0.04266588 |\n",
       "| Status | 20849 | 1389 | 0.06662190 |\n",
       "\n"
      ],
      "text/plain": [
       "  Type   LifetimeImpressions LifetimeConsumptions ConsumptionsOverImpressions\n",
       "1 Photo   5091                159                 0.03123159                 \n",
       "2 Status 19057               1674                 0.08784174                 \n",
       "3 Photo   4373                154                 0.03521610                 \n",
       "4 Photo  87991               1119                 0.01271721                 \n",
       "5 Photo  13594                580                 0.04266588                 \n",
       "6 Status 20849               1389                 0.06662190                 "
      ]
     },
     "metadata": {},
     "output_type": "display_data"
    }
   ],
   "source": [
    "# First remove spaces from the column names\n",
    "names(data)<-make.names(names(data),unique = TRUE)\n",
    "\n",
    "# Select only the variables of interest and calculate the ratio of consumptions/impressions\n",
    "data_selected = data %>%\n",
    "    select(Type, Lifetime.Post.Total.Impressions, Lifetime.Post.Consumptions) %>%\n",
    "    mutate(ratio=Lifetime.Post.Consumptions/Lifetime.Post.Total.Impressions) %>%\n",
    "    filter(!is.na(Type))\n",
    "\n",
    "# Assign new more manageable column names\n",
    "names(data_selected) <- c(\"Type\", \"LifetimeImpressions\", \"LifetimeConsumptions\", \"ConsumptionsOverImpressions\")\n",
    "\n",
    "# Here we break the dataset apart by type for later use\n",
    "data_photo = data_selected %>%\n",
    "    filter(Type == \"Photo\")\n",
    "data_status = data_selected %>%\n",
    "    filter(Type == \"Status\")\n",
    "data_link = data_selected %>%\n",
    "    filter(Type == \"Link\")\n",
    "data_video = data_selected %>%\n",
    "    filter(Type == \"Video\")\n",
    "\n",
    "# Preview the clean dataset\n",
    "head(data_selected)"
   ]
  },
  {
   "cell_type": "markdown",
   "id": "813d1f12",
   "metadata": {},
   "source": [
    "#### 2.3 Data Summary"
   ]
  },
  {
   "cell_type": "code",
   "execution_count": null,
   "id": "18d661b3",
   "metadata": {},
   "outputs": [],
   "source": [
    "# Here we will provide a summary of the dataset including means, minnimums, and maximums of the variables of interes\n",
    "data_summary <- data_selected %>%\n",
    "    group_by(Type) %>%\n",
    "    summarise(MeanImpressions = mean(LifetimeImpressions), MinImpressions = min(LifetimeImpressions),\n",
    "              MaxImpressions = max(LifetimeImpressions),  MeanConsumptions = mean(LifetimeConsumptions),\n",
    "              MinConsumptions = min(LifetimeConsumptions), MaxConsumptions = max(LifetimeConsumptions), \n",
    "              MeanRatio = mean(ConsumptionsOverImpressions), Num = sum(Type == Type))\n",
    "data_summary\n",
    "\n",
    "#Select MeanImpressions and MeanConsumptions and put them in the same column for data_summary_plot\n",
    "data_summary_longer <- data_summary %>%\n",
    "    select(Type, MeanImpressions, MeanConsumptions) %>%\n",
    "    pivot_longer(cols=c('MeanImpressions', 'MeanConsumptions'), names_to='variable', values_to='value')\n",
    "\n",
    "data_summary_longer"
   ]
  },
  {
   "cell_type": "code",
   "execution_count": 60,
   "id": "fbfdf5c8",
   "metadata": {},
   "outputs": [
    {
     "data": {
      "image/png": "[encoded data removed]",
      "text/plain": [
       "plot without title"
      ]
     },
     "metadata": {
      "image/png": {
       "height": 360,
       "width": 480
      }
     },
     "output_type": "display_data"
    }
   ],
   "source": [
    "options(repr.plot.width = 8, repr.plot.height = 6)\n",
    "\n",
    "# A side by side histogram of consumptions and impressions separated by type\n",
    "data_summary_plot <- data_summary_longer %>%\n",
    "    ggplot(aes(x=Type, y=value, fill=variable)) +\n",
    "    geom_bar(stat='identity', position='dodge') +\n",
    "    labs(x = \"Engagement Type\", y = \"Value\", fill = \"Variable\") +\n",
    "    ggtitle(\"Mean Consumptions and Mean Impressions of Facebook Engagement Types\")\n",
    "data_summary_plot"
   ]
  },
  {
   "cell_type": "code",
   "execution_count": null,
   "id": "90e7eb2e",
   "metadata": {},
   "outputs": [],
   "source": [
    "options(repr.plot.width = 8, repr.plot.height = 6)\n",
    "\n",
    "# Mean Consumptions over Mean Impressions ratio plot separated by type\n",
    "data_ratio_plot <- data_summary %>%\n",
    "    ggplot(aes(x=Type, y=MeanRatio, fill=Type)) +\n",
    "    geom_bar(stat='identity', position='dodge') + \n",
    "    labs(x = \"Engagement Type\", y = \"Ratio (Mean Consumptions/Mean Impressions)\", fill = \"Variable\") +\n",
    "    ggtitle(\"Mean Consumtions to Mean Impressions for Facebook Engagement Types\")\n",
    "data_ratio_plot"
   ]
  },
  {
   "cell_type": "markdown",
   "id": "cf881182",
   "metadata": {},
   "source": [
    "#### 2.4 Plot Observations"
   ]
  },
  {
   "cell_type": "markdown",
   "id": "42d0b8ba",
   "metadata": {},
   "source": [
    "In the side by side plot of mean impressions and mean consumptions as expected the impressions far outweigh the consumptions. This means on average facebook displays a post far more often than that post gets clicked. Another key insight is that Videos seem to be shared a lot more across facebook as their mean impressions are by far the highest however this does not appear to affect their mean consumptions.\n",
    "\n",
    "The mean ratio of mean consumptions over mean impressions. Another way to think of this is how many times a post is clicked per impression. This post suggests that Photo and Status posts get more clicks per impression when compared with Video and Link type posts."
   ]
  },
  {
   "cell_type": "markdown",
   "id": "4abfe671",
   "metadata": {},
   "source": [
    "#### 2.5 Bootstraping"
   ]
  },
  {
   "cell_type": "markdown",
   "id": "662a2a69-9db1-4e21-a4d0-9e5804dd8ea3",
   "metadata": {},
   "source": [
    "In this section we will calculate 90% confidence intervals for the mean ratio of each type of post. To do this we will sample 1000 times from the original sample using sizes calculated in part 2.3 Data Summary. We also plot the bootstrap distributions to visualize their spread."
   ]
  },
  {
   "cell_type": "code",
   "execution_count": 62,
   "id": "c0d77160-f688-41f7-b316-77d5be7c60b6",
   "metadata": {},
   "outputs": [],
   "source": [
    "# Below we take a bootstrap of 1000 resamples for each type of post (Photo, Video, etc.) The sizes were precalculated in the main summary\n",
    "# table and were used again.\n",
    "\n",
    "bootstrap_photo <- data_photo %>% \n",
    "    rep_sample_n(reps = 1000, size = 426, replace = TRUE) %>% \n",
    "    group_by(replicate) %>% \n",
    "    summarize(mean_ratio = mean(ConsumptionsOverImpressions)) %>% \n",
    "    select(mean_ratio)\n",
    "\n",
    "bootstrap_status <- data_status %>% \n",
    "    rep_sample_n(reps = 1000, size = 45, replace = TRUE) %>% \n",
    "    group_by(replicate) %>% \n",
    "    summarize(mean_ratio = mean(ConsumptionsOverImpressions)) %>% \n",
    "    select(mean_ratio)\n",
    "\n",
    "bootstrap_video <- data_video %>% \n",
    "    rep_sample_n(reps = 1000, size = 7, replace = TRUE) %>% \n",
    "    group_by(replicate) %>% \n",
    "    summarize(mean_ratio = mean(ConsumptionsOverImpressions)) %>% \n",
    "    select(mean_ratio)\n",
    "\n",
    "bootstrap_link <- data_link %>% \n",
    "    rep_sample_n(reps = 1000, size = 22, replace = TRUE) %>% \n",
    "    group_by(replicate) %>% \n",
    "    summarize(mean_ratio = mean(ConsumptionsOverImpressions)) %>% \n",
    "    select(mean_ratio)"
   ]
  },
  {
   "cell_type": "code",
   "execution_count": 63,
   "id": "5d2785b0",
   "metadata": {},
   "outputs": [
    {
     "name": "stderr",
     "output_type": "stream",
     "text": [
      "Warning message:\n",
      "“Removed 2 rows containing non-finite values (stat_bin).”\n",
      "Warning message:\n",
      "“Removed 2 rows containing missing values (geom_bar).”\n",
      "Warning message:\n",
      "“Removed 2 rows containing missing values (geom_bar).”\n",
      "Warning message:\n",
      "“Removed 2 rows containing missing values (geom_bar).”\n",
      "Warning message:\n",
      "“Removed 2 rows containing missing values (geom_bar).”\n"
     ]
    },
    {
     "data": {
      "image/png": "[encoded data removed]",
      "text/plain": [
       "plot without title"
      ]
     },
     "metadata": {
      "image/png": {
       "height": 240,
       "width": 900
      }
     },
     "output_type": "display_data"
    }
   ],
   "source": [
    "options(repr.plot.width = 15, repr.plot.height = 4)\n",
    "\n",
    "# in this cell we will plot all bootstrap distributions to get an idea of the originial distributions\n",
    "bootstrap_photo_plot <- bootstrap_photo %>%\n",
    "    ggplot(aes(x = mean_ratio)) +\n",
    "    geom_histogram(binwidth = 0.001) +\n",
    "    xlab(\"Mean Consumptions / Impressions\")\n",
    "\n",
    "bootstrap_status_plot <- bootstrap_status %>%\n",
    "    ggplot(aes(x = mean_ratio)) +\n",
    "    geom_histogram(binwidth = 0.001) +\n",
    "    xlab(\"Mean Consumptions / Impressions\")\n",
    "\n",
    "bootstrap_video_plot <- bootstrap_video %>%\n",
    "    ggplot(aes(x = mean_ratio)) +\n",
    "    geom_histogram(binwidth = 0.001) +\n",
    "    xlab(\"Mean Consumptions / Impressions\")\n",
    "\n",
    "bootstrap_link_plot <- bootstrap_link %>%\n",
    "    ggplot(aes(x = mean_ratio)) +\n",
    "    geom_histogram(binwidth = 0.001) +\n",
    "    xlab(\"Mean Consumptions / Impressions\")\n",
    "\n",
    "# Plot the bootstrap distributions side by side\n",
    "plot_grid(bootstrap_photo_plot +\n",
    "              labs(title = \"Bootstrap Distribution for Photo Posts\") +\n",
    "              scale_x_continuous(limits = c(0.1,0.16)),\n",
    "          bootstrap_status_plot +\n",
    "              labs(title = \"Bootstrap Distribution for Status Posts\") +\n",
    "              scale_x_continuous(limits = c(0.08,0.14)),\n",
    "          bootstrap_video_plot +\n",
    "              labs(title = \"Bootstrap Distribution for Video Posts\") +\n",
    "              scale_x_continuous(limits = c(0,0.15)),\n",
    "          bootstrap_link_plot +\n",
    "              labs(title = \"Bootstrap Distribution for Link Posts\") +\n",
    "              scale_x_continuous(limits = c(0,0.06)),\n",
    "          ncol = 4)"
   ]
  },
  {
   "cell_type": "code",
   "execution_count": 64,
   "id": "66c443d6",
   "metadata": {},
   "outputs": [
    {
     "data": {
      "text/html": [
       "<table class=\"dataframe\">\n",
       "<caption>A tibble: 4 × 4</caption>\n",
       "<thead>\n",
       "\t<tr><th scope=col>Type</th><th scope=col>ci_lower</th><th scope=col>ci_upper</th><th scope=col>MeanRatio</th></tr>\n",
       "\t<tr><th scope=col>&lt;chr&gt;</th><th scope=col>&lt;dbl&gt;</th><th scope=col>&lt;dbl&gt;</th><th scope=col>&lt;dbl&gt;</th></tr>\n",
       "</thead>\n",
       "<tbody>\n",
       "\t<tr><td>Link  </td><td>0.01751523</td><td>0.03580021</td><td>0.02594883</td></tr>\n",
       "\t<tr><td>Photo </td><td>0.10876724</td><td>0.13981007</td><td>0.12364624</td></tr>\n",
       "\t<tr><td>Status</td><td>0.09639651</td><td>0.12061863</td><td>0.10865636</td></tr>\n",
       "\t<tr><td>Video </td><td>0.01697675</td><td>0.08688191</td><td>0.04637671</td></tr>\n",
       "</tbody>\n",
       "</table>\n"
      ],
      "text/latex": [
       "A tibble: 4 × 4\n",
       "\\begin{tabular}{llll}\n",
       " Type & ci\\_lower & ci\\_upper & MeanRatio\\\\\n",
       " <chr> & <dbl> & <dbl> & <dbl>\\\\\n",
       "\\hline\n",
       "\t Link   & 0.01751523 & 0.03580021 & 0.02594883\\\\\n",
       "\t Photo  & 0.10876724 & 0.13981007 & 0.12364624\\\\\n",
       "\t Status & 0.09639651 & 0.12061863 & 0.10865636\\\\\n",
       "\t Video  & 0.01697675 & 0.08688191 & 0.04637671\\\\\n",
       "\\end{tabular}\n"
      ],
      "text/markdown": [
       "\n",
       "A tibble: 4 × 4\n",
       "\n",
       "| Type &lt;chr&gt; | ci_lower &lt;dbl&gt; | ci_upper &lt;dbl&gt; | MeanRatio &lt;dbl&gt; |\n",
       "|---|---|---|---|\n",
       "| Link   | 0.01751523 | 0.03580021 | 0.02594883 |\n",
       "| Photo  | 0.10876724 | 0.13981007 | 0.12364624 |\n",
       "| Status | 0.09639651 | 0.12061863 | 0.10865636 |\n",
       "| Video  | 0.01697675 | 0.08688191 | 0.04637671 |\n",
       "\n"
      ],
      "text/plain": [
       "  Type   ci_lower   ci_upper   MeanRatio \n",
       "1 Link   0.01751523 0.03580021 0.02594883\n",
       "2 Photo  0.10876724 0.13981007 0.12364624\n",
       "3 Status 0.09639651 0.12061863 0.10865636\n",
       "4 Video  0.01697675 0.08688191 0.04637671"
      ]
     },
     "metadata": {},
     "output_type": "display_data"
    }
   ],
   "source": [
    "# In this cell we calculate the 90% confidence interval for the original means using the bootstraps calculated previously\n",
    "\n",
    "# Combine all bootstraps to one DF and calculate confidence intervals\n",
    "Confidence_Interval <- bind_rows(mutate(bootstrap_photo, Type = \"Photo\"),\n",
    "    mutate(bootstrap_status, Type = \"Status\"),\n",
    "    mutate(bootstrap_video, Type = \"Video\"),\n",
    "    mutate(bootstrap_link, Type = \"Link\")) %>%\n",
    "    group_by(Type) %>%\n",
    "    summarise(ci_lower = quantile(mean_ratio, 0.05),\n",
    "              ci_upper = quantile(mean_ratio, 0.95)) %>%\n",
    "    bind_cols(select(data_summary, MeanRatio))\n",
    "\n",
    "Confidence_Interval\n"
   ]
  },
  {
   "cell_type": "markdown",
   "id": "d661bd88",
   "metadata": {},
   "source": [
    "Unsurprisingly the confidence interval for video is the largest. This is because we have only 7 observations with the type video and as a result we need a wider confidence interval. Surprisingly link has the smallest confidence interval even though we have the most observations of type photo. This could be a result of random chance in the bootstrapping samples."
   ]
  },
  {
   "cell_type": "markdown",
   "id": "2805004e",
   "metadata": {},
   "source": [
    "## 3. Methods"
   ]
  },
  {
   "cell_type": "markdown",
   "id": "1029910e",
   "metadata": {},
   "source": [
    "   Our group plans to analyze the ratios of the averages of Lifetime Post Consumptions/Lifetime Post Total Impressions between the following types of content, including Status, Photo, Link and Video. Evaluating the impact of advertisement in social media is a critical problem in commercial strategy, the ratio that we are concerned with is exactly related to it (Moro et al., 2016). We plan to use the method of bootstrapping to get the sample’s average since we cannot get the population parameter. The above histograms represent these four significant factors that can contribute to influencing the ratio of the two variables that we are concerned about. To make our report trustworthy, we will also construct and visualize the confidence intervals to determine if they will capture the true values. However, the plots and estimates are not enough to give to a stakeholder, hypothesis testing is going to be used to address this gap, which can assess the plausibility of a hypothesis by using sample data, making our statistical inference more reliable and accurate.\n",
    "\n",
    "   Using the methods above, the graphs of each of the variables can give us information about the four averages of Lifetime Post Consumptions/Lifetime Post Total Impressions ratio. Comparing them can help understand their relationships between the content types (Status, Photo, Link, Video) and this ratio, which can provide useful and valuable information when the companies advertise their products on social media. They may determine which types of content should be posted based on the results of our research. Our research can lead to a future question which is if our results will be influenced by different types of products, such as clothes, food, education, and so on."
   ]
  },
  {
   "cell_type": "markdown",
   "id": "b4503dda",
   "metadata": {},
   "source": [
    "## 4. References"
   ]
  },
  {
   "cell_type": "markdown",
   "id": "32176162",
   "metadata": {},
   "source": [
    "1. Moro, S., Rita, P., & Vala, B. (2016). Predicting social media performance metrics and evaluation of the impact on brand building: A data mining approach. Journal of Business Research, 69(9), 3341-3351. https://doi.org/10.1016/j.jbusres.2016.02.010 \n"
   ]
  }
 ],
 "metadata": {
  "kernelspec": {
   "display_name": "R",
   "language": "R",
   "name": "ir"
  },
  "language_info": {
   "codemirror_mode": "r",
   "file_extension": ".r",
   "mimetype": "text/x-r-source",
   "name": "R",
   "pygments_lexer": "r",
   "version": "4.1.2"
  }
 },
 "nbformat": 4,
 "nbformat_minor": 5
}

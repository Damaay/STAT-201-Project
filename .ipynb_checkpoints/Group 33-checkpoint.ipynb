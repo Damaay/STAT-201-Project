{
 "cells": [
  {
   "cell_type": "markdown",
   "id": "8854c197-cfa9-4bb6-a2f7-d381463a287a",
   "metadata": {},
   "source": [
    "## Proposal"
   ]
  },
  {
   "cell_type": "markdown",
   "id": "eaa4ba22-7244-44fd-949b-6be73b0eb638",
   "metadata": {},
   "source": [
    "## Introduction"
   ]
  },
  {
   "cell_type": "markdown",
   "id": "f7aa8cc9-2387-4369-9482-19910f8e01e0",
   "metadata": {},
   "source": [
    "According to Deloitte Digital (2015), digital interactions are expected to influence 64 cents\n",
    "of every dollar spent in retail stores by the end of 2015, meaning that social media is increasing its direct impact on companies' revenues. Combined that with the acceleration of social media use in the pandemic, it's key for companies to understand what will engage consumers the most. \n",
    "\n",
    "Therefore, we will compare average Lifetime Post Total Consumptions/Lifetime Post Total Impressions ratio between different types of content (Status, Photo, Link, Video) and find out if there is a statistical difference between them. The idea being we want to see how effective each type of content is when converting looks into engagement."
   ]
  },
  {
   "cell_type": "markdown",
   "id": "1bc6ca02-a62c-4db4-99fc-566433aa279f",
   "metadata": {},
   "source": [
    "## Preliminary Results"
   ]
  },
  {
   "cell_type": "code",
   "execution_count": 4,
   "id": "0b0cc1d2-3247-40c0-8bbe-94236dfca0a2",
   "metadata": {},
   "outputs": [
    {
     "ename": "ERROR",
     "evalue": "Error in read_csv(\"home/dataset_Facebook\"): could not find function \"read_csv\"\n",
     "output_type": "error",
     "traceback": [
      "Error in read_csv(\"home/dataset_Facebook\"): could not find function \"read_csv\"\nTraceback:\n"
     ]
    }
   ],
   "source": [
    "data = read_csv(\"home/dataset_Facebook\")\n",
    "data"
   ]
  },
  {
   "cell_type": "code",
   "execution_count": null,
   "id": "2f0a6e6f-60d7-4572-81a7-143c88147782",
   "metadata": {},
   "outputs": [],
   "source": []
  }
 ],
 "metadata": {
  "kernelspec": {
   "display_name": "R",
   "language": "R",
   "name": "ir"
  },
  "language_info": {
   "codemirror_mode": "r",
   "file_extension": ".r",
   "mimetype": "text/x-r-source",
   "name": "R",
   "pygments_lexer": "r",
   "version": "4.1.2"
  }
 },
 "nbformat": 4,
 "nbformat_minor": 5
}

{
 "cells": [
  {
   "cell_type": "markdown",
   "id": "a21a8a2b",
   "metadata": {},
   "source": [
    "## 1. Introduction"
   ]
  },
  {
   "cell_type": "markdown",
   "id": "9228af4f",
   "metadata": {},
   "source": [
    "#### 1.1 Background Information"
   ]
  },
  {
   "cell_type": "markdown",
   "id": "dd254685",
   "metadata": {},
   "source": [
    "According to Forbes, approximately 66% of users between the age of 18 and 35 years old shows stronger loyalty to brands with strong social media presence (Shaw, 2018). Since they are whose with highest buying power, it is crucial for companies to understand how to engage their customers effectively on social media (Sheerin et al., 2020). Specificly, we will look into key marketing metrics on Facebook platform, **determine which is the best proxy for consumer interaction and find out what type of content is the most effective to engage users.**"
   ]
  },
  {
   "cell_type": "markdown",
   "id": "ac0afb6f",
   "metadata": {},
   "source": [
    "#### 1.2 Dataset Description"
   ]
  },
  {
   "cell_type": "markdown",
   "id": "5441477b",
   "metadata": {},
   "source": [
    "The dataset is a compilation of 500 different facebook posts by a cosmetics brand. Each observation includes important information on the post including the following variables of interest for this report:\n",
    "\n",
    "- **Type**: The type of facebook post (Video, Photo, Status and Link).\n",
    "- **Lifetime Impressions**: The number of times a post is displayed on Facebook users' personal feed. The post does not have to be clicked to count as an impression.\n",
    "- **Lifetime Consumptions**: The total number of clicks anywhere on the post. Each click, even on the same post, is counted as one."
   ]
  },
  {
   "cell_type": "markdown",
   "id": "8b0fd16c-62e7-4652-b689-d3e5328243bb",
   "metadata": {},
   "source": [
    "#### 1.3 Project Objective"
   ]
  },
  {
   "cell_type": "markdown",
   "id": "980f8ad1-a24e-48ec-8131-719cf15ec608",
   "metadata": {},
   "source": [
    "We decide that the Lifetime Consumptions/Lifetime Impressions ratio will be the best proxy for user engagement. This metric essentially tells you the interaction rate of a consumer once they see the content on their feed.\n",
    "\n",
    "Our goal is to find **which type of Facebook content delivers the highest Consumptions/Impressions ratio and is there enough statistical evidence to pinpoint which type does the best job?**"
   ]
  },
  {
   "cell_type": "markdown",
   "id": "0985bbaf",
   "metadata": {
    "tags": []
   },
   "source": [
    "## 2. Methods and Results"
   ]
  },
  {
   "cell_type": "markdown",
   "id": "eb70338b",
   "metadata": {
    "tags": []
   },
   "source": [
    "#### 2.1 Reading the Data"
   ]
  },
  {
   "cell_type": "code",
   "execution_count": 1,
   "id": "fa64e184",
   "metadata": {},
   "outputs": [
    {
     "name": "stderr",
     "output_type": "stream",
     "text": [
      "Warning message in system(\"timedatectl\", intern = TRUE):\n",
      "“running command 'timedatectl' had status 1”\n",
      "── \u001b[1mAttaching packages\u001b[22m ─────────────────────────────────────── tidyverse 1.3.1 ──\n",
      "\n",
      "\u001b[32m✔\u001b[39m \u001b[34mggplot2\u001b[39m 3.3.5     \u001b[32m✔\u001b[39m \u001b[34mpurrr  \u001b[39m 0.3.4\n",
      "\u001b[32m✔\u001b[39m \u001b[34mtibble \u001b[39m 3.1.6     \u001b[32m✔\u001b[39m \u001b[34mdplyr  \u001b[39m 1.0.7\n",
      "\u001b[32m✔\u001b[39m \u001b[34mtidyr  \u001b[39m 1.2.0     \u001b[32m✔\u001b[39m \u001b[34mstringr\u001b[39m 1.4.0\n",
      "\u001b[32m✔\u001b[39m \u001b[34mreadr  \u001b[39m 2.1.2     \u001b[32m✔\u001b[39m \u001b[34mforcats\u001b[39m 0.5.1\n",
      "\n",
      "── \u001b[1mConflicts\u001b[22m ────────────────────────────────────────── tidyverse_conflicts() ──\n",
      "\u001b[31m✖\u001b[39m \u001b[34mdplyr\u001b[39m::\u001b[32mfilter()\u001b[39m masks \u001b[34mstats\u001b[39m::filter()\n",
      "\u001b[31m✖\u001b[39m \u001b[34mdplyr\u001b[39m::\u001b[32mlag()\u001b[39m    masks \u001b[34mstats\u001b[39m::lag()\n",
      "\n",
      "\n",
      "Attaching package: ‘gridExtra’\n",
      "\n",
      "\n",
      "The following object is masked from ‘package:dplyr’:\n",
      "\n",
      "    combine\n",
      "\n",
      "\n",
      "\u001b[1mRows: \u001b[22m\u001b[34m500\u001b[39m \u001b[1mColumns: \u001b[22m\u001b[34m19\u001b[39m\n",
      "\n",
      "\u001b[36m──\u001b[39m \u001b[1mColumn specification\u001b[22m \u001b[36m────────────────────────────────────────────────────────\u001b[39m\n",
      "\u001b[1mDelimiter:\u001b[22m \";\"\n",
      "\u001b[31mchr\u001b[39m  (1): Type\n",
      "\u001b[32mdbl\u001b[39m (18): Page total likes, Category, Post Month, Post Weekday, Post Hour, P...\n",
      "\n",
      "\n",
      "\u001b[36mℹ\u001b[39m Use `spec()` to retrieve the full column specification for this data.\n",
      "\u001b[36mℹ\u001b[39m Specify the column types or set `show_col_types = FALSE` to quiet this message.\n",
      "\n"
     ]
    }
   ],
   "source": [
    "# Load the required libraries\n",
    "library(tidyverse)\n",
    "library(cowplot)\n",
    "library(digest)\n",
    "library(gridExtra)\n",
    "library(infer)\n",
    "library(repr)\n",
    "library(tidyverse)\n",
    "library(broom)\n",
    "set.seed(1)\n",
    "\n",
    "# Here we read the data set straight from the web\n",
    "# The original source is linked here (https://archive.ics.uci.edu/ml/datasets/Facebook+metrics)\n",
    "temp <- tempfile()\n",
    "download.file(\"https://archive.ics.uci.edu/ml/machine-learning-databases/00368/Facebook_metrics.zip\",temp)\n",
    "data <- read_delim(unz(temp, \"dataset_Facebook.csv\"), delim=\";\")\n",
    "unlink(temp)"
   ]
  },
  {
   "cell_type": "markdown",
   "id": "a9883037",
   "metadata": {},
   "source": [
    "#### 2.2 Cleaning the Data"
   ]
  },
  {
   "cell_type": "code",
   "execution_count": 2,
   "id": "08533e05",
   "metadata": {},
   "outputs": [
    {
     "data": {
      "text/html": [
       "<table class=\"dataframe\">\n",
       "<caption>A tibble: 6 × 4</caption>\n",
       "<thead>\n",
       "\t<tr><th scope=col>Type</th><th scope=col>LifetimeImpressions</th><th scope=col>LifetimeConsumptions</th><th scope=col>ConsumptionsOverImpressions</th></tr>\n",
       "\t<tr><th scope=col>&lt;chr&gt;</th><th scope=col>&lt;dbl&gt;</th><th scope=col>&lt;dbl&gt;</th><th scope=col>&lt;dbl&gt;</th></tr>\n",
       "</thead>\n",
       "<tbody>\n",
       "\t<tr><td>Photo </td><td> 5091</td><td> 159</td><td>0.03123159</td></tr>\n",
       "\t<tr><td>Status</td><td>19057</td><td>1674</td><td>0.08784174</td></tr>\n",
       "\t<tr><td>Photo </td><td> 4373</td><td> 154</td><td>0.03521610</td></tr>\n",
       "\t<tr><td>Photo </td><td>87991</td><td>1119</td><td>0.01271721</td></tr>\n",
       "\t<tr><td>Photo </td><td>13594</td><td> 580</td><td>0.04266588</td></tr>\n",
       "\t<tr><td>Status</td><td>20849</td><td>1389</td><td>0.06662190</td></tr>\n",
       "</tbody>\n",
       "</table>\n"
      ],
      "text/latex": [
       "A tibble: 6 × 4\n",
       "\\begin{tabular}{llll}\n",
       " Type & LifetimeImpressions & LifetimeConsumptions & ConsumptionsOverImpressions\\\\\n",
       " <chr> & <dbl> & <dbl> & <dbl>\\\\\n",
       "\\hline\n",
       "\t Photo  &  5091 &  159 & 0.03123159\\\\\n",
       "\t Status & 19057 & 1674 & 0.08784174\\\\\n",
       "\t Photo  &  4373 &  154 & 0.03521610\\\\\n",
       "\t Photo  & 87991 & 1119 & 0.01271721\\\\\n",
       "\t Photo  & 13594 &  580 & 0.04266588\\\\\n",
       "\t Status & 20849 & 1389 & 0.06662190\\\\\n",
       "\\end{tabular}\n"
      ],
      "text/markdown": [
       "\n",
       "A tibble: 6 × 4\n",
       "\n",
       "| Type &lt;chr&gt; | LifetimeImpressions &lt;dbl&gt; | LifetimeConsumptions &lt;dbl&gt; | ConsumptionsOverImpressions &lt;dbl&gt; |\n",
       "|---|---|---|---|\n",
       "| Photo  |  5091 |  159 | 0.03123159 |\n",
       "| Status | 19057 | 1674 | 0.08784174 |\n",
       "| Photo  |  4373 |  154 | 0.03521610 |\n",
       "| Photo  | 87991 | 1119 | 0.01271721 |\n",
       "| Photo  | 13594 |  580 | 0.04266588 |\n",
       "| Status | 20849 | 1389 | 0.06662190 |\n",
       "\n"
      ],
      "text/plain": [
       "  Type   LifetimeImpressions LifetimeConsumptions ConsumptionsOverImpressions\n",
       "1 Photo   5091                159                 0.03123159                 \n",
       "2 Status 19057               1674                 0.08784174                 \n",
       "3 Photo   4373                154                 0.03521610                 \n",
       "4 Photo  87991               1119                 0.01271721                 \n",
       "5 Photo  13594                580                 0.04266588                 \n",
       "6 Status 20849               1389                 0.06662190                 "
      ]
     },
     "metadata": {},
     "output_type": "display_data"
    }
   ],
   "source": [
    "# First remove spaces from the column names\n",
    "names(data)<-make.names(names(data),unique = TRUE)\n",
    "\n",
    "# Select only the variables of interest and calculate the ratio of consumptions/impressions\n",
    "data_selected = data %>%\n",
    "    select(Type, Lifetime.Post.Total.Impressions, Lifetime.Post.Consumptions) %>%\n",
    "    mutate(ratio=Lifetime.Post.Consumptions/Lifetime.Post.Total.Impressions) %>%\n",
    "    filter(!is.na(Type))\n",
    "\n",
    "# Assign new more manageable column names\n",
    "names(data_selected) <- c(\"Type\", \"LifetimeImpressions\", \"LifetimeConsumptions\", \"ConsumptionsOverImpressions\")\n",
    "\n",
    "# Here we break the dataset apart by type for later use\n",
    "data_photo = data_selected %>%\n",
    "    filter(Type == \"Photo\")\n",
    "data_status = data_selected %>%\n",
    "    filter(Type == \"Status\")\n",
    "data_link = data_selected %>%\n",
    "    filter(Type == \"Link\")\n",
    "data_video = data_selected %>%\n",
    "    filter(Type == \"Video\")\n",
    "\n",
    "# Preview the clean dataset\n",
    "head(data_selected)"
   ]
  },
  {
   "cell_type": "markdown",
   "id": "813d1f12",
   "metadata": {},
   "source": [
    "#### 2.3 Data Summary"
   ]
  },
  {
   "cell_type": "code",
   "execution_count": 3,
   "id": "18d661b3",
   "metadata": {},
   "outputs": [
    {
     "data": {
      "text/html": [
       "<table class=\"dataframe\">\n",
       "<caption>A tibble: 4 × 9</caption>\n",
       "<thead>\n",
       "\t<tr><th scope=col>Type</th><th scope=col>MeanImpressions</th><th scope=col>MinImpressions</th><th scope=col>MaxImpressions</th><th scope=col>MeanConsumptions</th><th scope=col>MinConsumptions</th><th scope=col>MaxConsumptions</th><th scope=col>MeanRatio</th><th scope=col>Num</th></tr>\n",
       "\t<tr><th scope=col>&lt;chr&gt;</th><th scope=col>&lt;dbl&gt;</th><th scope=col>&lt;dbl&gt;</th><th scope=col>&lt;dbl&gt;</th><th scope=col>&lt;dbl&gt;</th><th scope=col>&lt;dbl&gt;</th><th scope=col>&lt;dbl&gt;</th><th scope=col>&lt;dbl&gt;</th><th scope=col>&lt;int&gt;</th></tr>\n",
       "</thead>\n",
       "<tbody>\n",
       "\t<tr><td>Link  </td><td> 28725.45</td><td> 3094</td><td> 229733</td><td> 374.0909</td><td> 26</td><td> 1345</td><td>0.02594883</td><td> 22</td></tr>\n",
       "\t<tr><td>Photo </td><td> 28994.50</td><td>  570</td><td>1110282</td><td>1299.0258</td><td>  9</td><td>19779</td><td>0.12364624</td><td>426</td></tr>\n",
       "\t<tr><td>Status</td><td> 24244.47</td><td> 7509</td><td>  59964</td><td>2838.8667</td><td>112</td><td> 9237</td><td>0.10865636</td><td> 45</td></tr>\n",
       "\t<tr><td>Video </td><td>102622.43</td><td>30235</td><td> 277100</td><td>2600.1429</td><td>539</td><td> 7327</td><td>0.04637671</td><td>  7</td></tr>\n",
       "</tbody>\n",
       "</table>\n"
      ],
      "text/latex": [
       "A tibble: 4 × 9\n",
       "\\begin{tabular}{lllllllll}\n",
       " Type & MeanImpressions & MinImpressions & MaxImpressions & MeanConsumptions & MinConsumptions & MaxConsumptions & MeanRatio & Num\\\\\n",
       " <chr> & <dbl> & <dbl> & <dbl> & <dbl> & <dbl> & <dbl> & <dbl> & <int>\\\\\n",
       "\\hline\n",
       "\t Link   &  28725.45 &  3094 &  229733 &  374.0909 &  26 &  1345 & 0.02594883 &  22\\\\\n",
       "\t Photo  &  28994.50 &   570 & 1110282 & 1299.0258 &   9 & 19779 & 0.12364624 & 426\\\\\n",
       "\t Status &  24244.47 &  7509 &   59964 & 2838.8667 & 112 &  9237 & 0.10865636 &  45\\\\\n",
       "\t Video  & 102622.43 & 30235 &  277100 & 2600.1429 & 539 &  7327 & 0.04637671 &   7\\\\\n",
       "\\end{tabular}\n"
      ],
      "text/markdown": [
       "\n",
       "A tibble: 4 × 9\n",
       "\n",
       "| Type &lt;chr&gt; | MeanImpressions &lt;dbl&gt; | MinImpressions &lt;dbl&gt; | MaxImpressions &lt;dbl&gt; | MeanConsumptions &lt;dbl&gt; | MinConsumptions &lt;dbl&gt; | MaxConsumptions &lt;dbl&gt; | MeanRatio &lt;dbl&gt; | Num &lt;int&gt; |\n",
       "|---|---|---|---|---|---|---|---|---|\n",
       "| Link   |  28725.45 |  3094 |  229733 |  374.0909 |  26 |  1345 | 0.02594883 |  22 |\n",
       "| Photo  |  28994.50 |   570 | 1110282 | 1299.0258 |   9 | 19779 | 0.12364624 | 426 |\n",
       "| Status |  24244.47 |  7509 |   59964 | 2838.8667 | 112 |  9237 | 0.10865636 |  45 |\n",
       "| Video  | 102622.43 | 30235 |  277100 | 2600.1429 | 539 |  7327 | 0.04637671 |   7 |\n",
       "\n"
      ],
      "text/plain": [
       "  Type   MeanImpressions MinImpressions MaxImpressions MeanConsumptions\n",
       "1 Link    28725.45        3094           229733         374.0909       \n",
       "2 Photo   28994.50         570          1110282        1299.0258       \n",
       "3 Status  24244.47        7509            59964        2838.8667       \n",
       "4 Video  102622.43       30235           277100        2600.1429       \n",
       "  MinConsumptions MaxConsumptions MeanRatio  Num\n",
       "1  26              1345           0.02594883  22\n",
       "2   9             19779           0.12364624 426\n",
       "3 112              9237           0.10865636  45\n",
       "4 539              7327           0.04637671   7"
      ]
     },
     "metadata": {},
     "output_type": "display_data"
    },
    {
     "data": {
      "text/html": [
       "<table class=\"dataframe\">\n",
       "<caption>A tibble: 8 × 3</caption>\n",
       "<thead>\n",
       "\t<tr><th scope=col>Type</th><th scope=col>variable</th><th scope=col>value</th></tr>\n",
       "\t<tr><th scope=col>&lt;chr&gt;</th><th scope=col>&lt;chr&gt;</th><th scope=col>&lt;dbl&gt;</th></tr>\n",
       "</thead>\n",
       "<tbody>\n",
       "\t<tr><td>Link  </td><td>MeanImpressions </td><td> 28725.4545</td></tr>\n",
       "\t<tr><td>Link  </td><td>MeanConsumptions</td><td>   374.0909</td></tr>\n",
       "\t<tr><td>Photo </td><td>MeanImpressions </td><td> 28994.4977</td></tr>\n",
       "\t<tr><td>Photo </td><td>MeanConsumptions</td><td>  1299.0258</td></tr>\n",
       "\t<tr><td>Status</td><td>MeanImpressions </td><td> 24244.4667</td></tr>\n",
       "\t<tr><td>Status</td><td>MeanConsumptions</td><td>  2838.8667</td></tr>\n",
       "\t<tr><td>Video </td><td>MeanImpressions </td><td>102622.4286</td></tr>\n",
       "\t<tr><td>Video </td><td>MeanConsumptions</td><td>  2600.1429</td></tr>\n",
       "</tbody>\n",
       "</table>\n"
      ],
      "text/latex": [
       "A tibble: 8 × 3\n",
       "\\begin{tabular}{lll}\n",
       " Type & variable & value\\\\\n",
       " <chr> & <chr> & <dbl>\\\\\n",
       "\\hline\n",
       "\t Link   & MeanImpressions  &  28725.4545\\\\\n",
       "\t Link   & MeanConsumptions &    374.0909\\\\\n",
       "\t Photo  & MeanImpressions  &  28994.4977\\\\\n",
       "\t Photo  & MeanConsumptions &   1299.0258\\\\\n",
       "\t Status & MeanImpressions  &  24244.4667\\\\\n",
       "\t Status & MeanConsumptions &   2838.8667\\\\\n",
       "\t Video  & MeanImpressions  & 102622.4286\\\\\n",
       "\t Video  & MeanConsumptions &   2600.1429\\\\\n",
       "\\end{tabular}\n"
      ],
      "text/markdown": [
       "\n",
       "A tibble: 8 × 3\n",
       "\n",
       "| Type &lt;chr&gt; | variable &lt;chr&gt; | value &lt;dbl&gt; |\n",
       "|---|---|---|\n",
       "| Link   | MeanImpressions  |  28725.4545 |\n",
       "| Link   | MeanConsumptions |    374.0909 |\n",
       "| Photo  | MeanImpressions  |  28994.4977 |\n",
       "| Photo  | MeanConsumptions |   1299.0258 |\n",
       "| Status | MeanImpressions  |  24244.4667 |\n",
       "| Status | MeanConsumptions |   2838.8667 |\n",
       "| Video  | MeanImpressions  | 102622.4286 |\n",
       "| Video  | MeanConsumptions |   2600.1429 |\n",
       "\n"
      ],
      "text/plain": [
       "  Type   variable         value      \n",
       "1 Link   MeanImpressions   28725.4545\n",
       "2 Link   MeanConsumptions    374.0909\n",
       "3 Photo  MeanImpressions   28994.4977\n",
       "4 Photo  MeanConsumptions   1299.0258\n",
       "5 Status MeanImpressions   24244.4667\n",
       "6 Status MeanConsumptions   2838.8667\n",
       "7 Video  MeanImpressions  102622.4286\n",
       "8 Video  MeanConsumptions   2600.1429"
      ]
     },
     "metadata": {},
     "output_type": "display_data"
    }
   ],
   "source": [
    "# Here we will provide a summary of the dataset including means, minimums, and maximums of the variables of interest\n",
    "data_summary <- data_selected %>%\n",
    "    group_by(Type) %>%\n",
    "    summarise(MeanImpressions = mean(LifetimeImpressions), MinImpressions = min(LifetimeImpressions),\n",
    "              MaxImpressions = max(LifetimeImpressions),  MeanConsumptions = mean(LifetimeConsumptions),\n",
    "              MinConsumptions = min(LifetimeConsumptions), MaxConsumptions = max(LifetimeConsumptions), \n",
    "              MeanRatio = mean(ConsumptionsOverImpressions), Num = sum(Type == Type))\n",
    "data_summary\n",
    "\n",
    "#Select MeanImpressions and MeanConsumptions and put them in the same column for data_summary_plot\n",
    "data_summary_longer <- data_summary %>%\n",
    "    select(Type, MeanImpressions, MeanConsumptions) %>%\n",
    "    pivot_longer(cols=c('MeanImpressions', 'MeanConsumptions'), names_to='variable', values_to='value')\n",
    "\n",
    "data_summary_longer"
   ]
  },
  {
   "cell_type": "code",
   "execution_count": 4,
   "id": "fbfdf5c8",
   "metadata": {},
   "outputs": [
    {
     "data": {
      "image/png": "[encoded data removed]",
      "text/plain": [
       "plot without title"
      ]
     },
     "metadata": {
      "image/png": {
       "height": 360,
       "width": 480
      }
     },
     "output_type": "display_data"
    }
   ],
   "source": [
    "options(repr.plot.width = 8, repr.plot.height = 6)\n",
    "\n",
    "# A side by side histogram of consumptions and impressions separated by type\n",
    "data_summary_plot <- data_summary_longer %>%\n",
    "    ggplot(aes(x=Type, y=value, fill=variable)) +\n",
    "    geom_bar(stat='identity', position='dodge') +\n",
    "    labs(x = \"Engagement Type\", y = \"Value\", fill = \"Variable\") +\n",
    "    ggtitle(\"Mean Consumptions and Mean Impressions of Facebook Engagement Types\")\n",
    "data_summary_plot"
   ]
  },
  {
   "cell_type": "code",
   "execution_count": 5,
   "id": "90e7eb2e",
   "metadata": {},
   "outputs": [
    {
     "data": {
      "image/png": "[encoded data removed]",
      "text/plain": [
       "plot without title"
      ]
     },
     "metadata": {
      "image/png": {
       "height": 360,
       "width": 480
      }
     },
     "output_type": "display_data"
    }
   ],
   "source": [
    "options(repr.plot.width = 8, repr.plot.height = 6)\n",
    "\n",
    "# Mean Consumptions over Mean Impressions ratio plot separated by type\n",
    "data_ratio_plot <- data_summary %>%\n",
    "    ggplot(aes(x=Type, y=MeanRatio, fill=Type)) +\n",
    "    geom_bar(stat='identity', position='dodge') + \n",
    "    labs(x = \"Engagement Type\", y = \"Ratio (Mean Consumptions/Mean Impressions)\", fill = \"Variable\") +\n",
    "    ggtitle(\"Mean Consumtions to Mean Impressions for Facebook Engagement Types\")\n",
    "data_ratio_plot"
   ]
  },
  {
   "cell_type": "markdown",
   "id": "cf881182",
   "metadata": {},
   "source": [
    "#### 2.4 Plot Observations"
   ]
  },
  {
   "cell_type": "markdown",
   "id": "42d0b8ba",
   "metadata": {},
   "source": [
    "As illustrated above, the impressions far outweigh the consumptions which means on average Facebook displays a post far more often than that post gets clicked. Another key insight is that Videos seem to be shared much more often across Facebook as their mean impressions are by far the highest. However this does not seem to affect that of consumptions, which demonstrates why the Consumption/Impression ratio is more rational than using a single metric.\n",
    "\n",
    "From an eye test, we can **make preliminary assumption that Photo and Status has higher Consumption/Impression ratio than Link and Video type of content.**"
   ]
  },
  {
   "cell_type": "markdown",
   "id": "4abfe671",
   "metadata": {},
   "source": [
    "#### 2.5 Bootstraping"
   ]
  },
  {
   "cell_type": "markdown",
   "id": "662a2a69-9db1-4e21-a4d0-9e5804dd8ea3",
   "metadata": {},
   "source": [
    "In this section we will calculate 90% confidence intervals for the mean ratio of each type of post. To do this we will sample 1000 times from the original sample using sizes calculated in part 2.3 Data Summary. We also plot the bootstrap distributions to visualize their spread."
   ]
  },
  {
   "cell_type": "code",
   "execution_count": 6,
   "id": "c0d77160-f688-41f7-b316-77d5be7c60b6",
   "metadata": {},
   "outputs": [],
   "source": [
    "# Below we take a bootstrap of 1000 resamples for each type of post (Photo, Video, etc.) The sizes were precalculated in the main summary\n",
    "# table and were used again.\n",
    "\n",
    "bootstrap_photo <- data_photo %>% \n",
    "    rep_sample_n(reps = 1000, size = 426, replace = TRUE) %>% \n",
    "    group_by(replicate) %>% \n",
    "    summarize(mean_ratio = mean(ConsumptionsOverImpressions)) %>% \n",
    "    select(mean_ratio)\n",
    "\n",
    "bootstrap_status <- data_status %>% \n",
    "    rep_sample_n(reps = 1000, size = 45, replace = TRUE) %>% \n",
    "    group_by(replicate) %>% \n",
    "    summarize(mean_ratio = mean(ConsumptionsOverImpressions)) %>% \n",
    "    select(mean_ratio)\n",
    "\n",
    "bootstrap_video <- data_video %>% \n",
    "    rep_sample_n(reps = 1000, size = 7, replace = TRUE) %>% \n",
    "    group_by(replicate) %>% \n",
    "    summarize(mean_ratio = mean(ConsumptionsOverImpressions)) %>% \n",
    "    select(mean_ratio)\n",
    "\n",
    "bootstrap_link <- data_link %>% \n",
    "    rep_sample_n(reps = 1000, size = 22, replace = TRUE) %>% \n",
    "    group_by(replicate) %>% \n",
    "    summarize(mean_ratio = mean(ConsumptionsOverImpressions)) %>% \n",
    "    select(mean_ratio)"
   ]
  },
  {
   "cell_type": "code",
   "execution_count": 7,
   "id": "5d2785b0",
   "metadata": {},
   "outputs": [
    {
     "name": "stderr",
     "output_type": "stream",
     "text": [
      "Warning message:\n",
      "“Removed 2 rows containing non-finite values (stat_bin).”\n",
      "Warning message:\n",
      "“Removed 2 rows containing missing values (geom_bar).”\n",
      "Warning message:\n",
      "“Removed 2 rows containing missing values (geom_bar).”\n",
      "Warning message:\n",
      "“Removed 2 rows containing missing values (geom_bar).”\n",
      "Warning message:\n",
      "“Removed 2 rows containing missing values (geom_bar).”\n"
     ]
    },
    {
     "data": {
      "image/png": "[encoded data removed]",
      "text/plain": [
       "plot without title"
      ]
     },
     "metadata": {
      "image/png": {
       "height": 240,
       "width": 900
      }
     },
     "output_type": "display_data"
    }
   ],
   "source": [
    "options(repr.plot.width = 15, repr.plot.height = 4)\n",
    "\n",
    "# in this cell we will plot all bootstrap distributions to get an idea of the originial distributions\n",
    "bootstrap_photo_plot <- bootstrap_photo %>%\n",
    "    ggplot(aes(x = mean_ratio)) +\n",
    "    geom_histogram(binwidth = 0.001) +\n",
    "    xlab(\"Mean Consumptions / Impressions\")\n",
    "\n",
    "bootstrap_status_plot <- bootstrap_status %>%\n",
    "    ggplot(aes(x = mean_ratio)) +\n",
    "    geom_histogram(binwidth = 0.001) +\n",
    "    xlab(\"Mean Consumptions / Impressions\")\n",
    "\n",
    "bootstrap_video_plot <- bootstrap_video %>%\n",
    "    ggplot(aes(x = mean_ratio)) +\n",
    "    geom_histogram(binwidth = 0.001) +\n",
    "    xlab(\"Mean Consumptions / Impressions\")\n",
    "\n",
    "bootstrap_link_plot <- bootstrap_link %>%\n",
    "    ggplot(aes(x = mean_ratio)) +\n",
    "    geom_histogram(binwidth = 0.001) +\n",
    "    xlab(\"Mean Consumptions / Impressions\")\n",
    "\n",
    "# Plot the bootstrap distributions side by side\n",
    "plot_grid(bootstrap_photo_plot +\n",
    "              labs(title = \"Bootstrap Distribution for Photo Posts\") +\n",
    "              scale_x_continuous(limits = c(0.1,0.16)),\n",
    "          bootstrap_status_plot +\n",
    "              labs(title = \"Bootstrap Distribution for Status Posts\") +\n",
    "              scale_x_continuous(limits = c(0.08,0.14)),\n",
    "          bootstrap_video_plot +\n",
    "              labs(title = \"Bootstrap Distribution for Video Posts\") +\n",
    "              scale_x_continuous(limits = c(0,0.15)),\n",
    "          bootstrap_link_plot +\n",
    "              labs(title = \"Bootstrap Distribution for Link Posts\") +\n",
    "              scale_x_continuous(limits = c(0,0.06)),\n",
    "          ncol = 4)"
   ]
  },
  {
   "cell_type": "markdown",
   "id": "cae6b830-075b-4e92-ac40-0151ad2fc262",
   "metadata": {},
   "source": [
    "#### 2.6 Calculating Uncertainty from Bootstrapping"
   ]
  },
  {
   "cell_type": "code",
   "execution_count": 8,
   "id": "66c443d6",
   "metadata": {},
   "outputs": [
    {
     "data": {
      "text/html": [
       "<table class=\"dataframe\">\n",
       "<caption>A tibble: 4 × 4</caption>\n",
       "<thead>\n",
       "\t<tr><th scope=col>Type</th><th scope=col>ci_lower</th><th scope=col>ci_upper</th><th scope=col>MeanRatio</th></tr>\n",
       "\t<tr><th scope=col>&lt;chr&gt;</th><th scope=col>&lt;dbl&gt;</th><th scope=col>&lt;dbl&gt;</th><th scope=col>&lt;dbl&gt;</th></tr>\n",
       "</thead>\n",
       "<tbody>\n",
       "\t<tr><td>Link  </td><td>0.01751523</td><td>0.03580021</td><td>0.02594883</td></tr>\n",
       "\t<tr><td>Photo </td><td>0.10876724</td><td>0.13981007</td><td>0.12364624</td></tr>\n",
       "\t<tr><td>Status</td><td>0.09639651</td><td>0.12061863</td><td>0.10865636</td></tr>\n",
       "\t<tr><td>Video </td><td>0.01697675</td><td>0.08688191</td><td>0.04637671</td></tr>\n",
       "</tbody>\n",
       "</table>\n"
      ],
      "text/latex": [
       "A tibble: 4 × 4\n",
       "\\begin{tabular}{llll}\n",
       " Type & ci\\_lower & ci\\_upper & MeanRatio\\\\\n",
       " <chr> & <dbl> & <dbl> & <dbl>\\\\\n",
       "\\hline\n",
       "\t Link   & 0.01751523 & 0.03580021 & 0.02594883\\\\\n",
       "\t Photo  & 0.10876724 & 0.13981007 & 0.12364624\\\\\n",
       "\t Status & 0.09639651 & 0.12061863 & 0.10865636\\\\\n",
       "\t Video  & 0.01697675 & 0.08688191 & 0.04637671\\\\\n",
       "\\end{tabular}\n"
      ],
      "text/markdown": [
       "\n",
       "A tibble: 4 × 4\n",
       "\n",
       "| Type &lt;chr&gt; | ci_lower &lt;dbl&gt; | ci_upper &lt;dbl&gt; | MeanRatio &lt;dbl&gt; |\n",
       "|---|---|---|---|\n",
       "| Link   | 0.01751523 | 0.03580021 | 0.02594883 |\n",
       "| Photo  | 0.10876724 | 0.13981007 | 0.12364624 |\n",
       "| Status | 0.09639651 | 0.12061863 | 0.10865636 |\n",
       "| Video  | 0.01697675 | 0.08688191 | 0.04637671 |\n",
       "\n"
      ],
      "text/plain": [
       "  Type   ci_lower   ci_upper   MeanRatio \n",
       "1 Link   0.01751523 0.03580021 0.02594883\n",
       "2 Photo  0.10876724 0.13981007 0.12364624\n",
       "3 Status 0.09639651 0.12061863 0.10865636\n",
       "4 Video  0.01697675 0.08688191 0.04637671"
      ]
     },
     "metadata": {},
     "output_type": "display_data"
    }
   ],
   "source": [
    "# In this cell we calculate the 90% confidence interval for the original means using the bootstraps calculated previously\n",
    "\n",
    "# Combine all bootstraps to one DF and calculate confidence intervals\n",
    "Confidence_Interval <- bind_rows(mutate(bootstrap_photo, Type = \"Photo\"),\n",
    "    mutate(bootstrap_status, Type = \"Status\"),\n",
    "    mutate(bootstrap_video, Type = \"Video\"),\n",
    "    mutate(bootstrap_link, Type = \"Link\")) %>%\n",
    "    group_by(Type) %>%\n",
    "    summarise(ci_lower = quantile(mean_ratio, 0.05),\n",
    "              ci_upper = quantile(mean_ratio, 0.95)) %>%\n",
    "    bind_cols(select(data_summary, MeanRatio))\n",
    "\n",
    "Confidence_Interval"
   ]
  },
  {
   "cell_type": "markdown",
   "id": "d7e4527a-1525-4c1d-b181-c1d3ca28b341",
   "metadata": {},
   "source": [
    "#### 2.7 Calculating Uncertainty using Asymptotics"
   ]
  },
  {
   "cell_type": "code",
   "execution_count": 9,
   "id": "885905e1-728a-4de5-80fb-6b9f9b955ad0",
   "metadata": {},
   "outputs": [
    {
     "data": {
      "text/html": [
       "0.02594883354073"
      ],
      "text/latex": [
       "0.02594883354073"
      ],
      "text/markdown": [
       "0.02594883354073"
      ],
      "text/plain": [
       "[1] 0.02594883"
      ]
     },
     "metadata": {},
     "output_type": "display_data"
    },
    {
     "data": {
      "text/html": [
       "0.123646239557784"
      ],
      "text/latex": [
       "0.123646239557784"
      ],
      "text/markdown": [
       "0.123646239557784"
      ],
      "text/plain": [
       "[1] 0.1236462"
      ]
     },
     "metadata": {},
     "output_type": "display_data"
    },
    {
     "data": {
      "text/html": [
       "0.108656356346597"
      ],
      "text/latex": [
       "0.108656356346597"
      ],
      "text/markdown": [
       "0.108656356346597"
      ],
      "text/plain": [
       "[1] 0.1086564"
      ]
     },
     "metadata": {},
     "output_type": "display_data"
    },
    {
     "data": {
      "text/html": [
       "0.0463767138560552"
      ],
      "text/latex": [
       "0.0463767138560552"
      ],
      "text/markdown": [
       "0.0463767138560552"
      ],
      "text/plain": [
       "[1] 0.04637671"
      ]
     },
     "metadata": {},
     "output_type": "display_data"
    }
   ],
   "source": [
    "mean_ratio_link <- data_summary %>%\n",
    "    filter(Type == \"Link\") %>%\n",
    "    pull(MeanRatio)\n",
    "mean_ratio_link\n",
    "\n",
    "mean_ratio_photo <- data_summary %>%\n",
    "    filter(Type == \"Photo\") %>%\n",
    "    pull(MeanRatio)\n",
    "mean_ratio_photo\n",
    "\n",
    "mean_ratio_status <- data_summary %>%\n",
    "    filter(Type == \"Status\") %>%\n",
    "    pull(MeanRatio)\n",
    "mean_ratio_status\n",
    "\n",
    "mean_ratio_video <- data_summary %>%\n",
    "    filter(Type == \"Video\") %>%\n",
    "    pull(MeanRatio)\n",
    "mean_ratio_video"
   ]
  },
  {
   "cell_type": "code",
   "execution_count": 10,
   "id": "e2e659ec-ed3e-42ff-8ef4-89196e55c71c",
   "metadata": {},
   "outputs": [
    {
     "data": {
      "text/html": [
       "0.00604435115470728"
      ],
      "text/latex": [
       "0.00604435115470728"
      ],
      "text/markdown": [
       "0.00604435115470728"
      ],
      "text/plain": [
       "[1] 0.006044351"
      ]
     },
     "metadata": {},
     "output_type": "display_data"
    },
    {
     "data": {
      "text/html": [
       "0.0091808755093887"
      ],
      "text/latex": [
       "0.0091808755093887"
      ],
      "text/markdown": [
       "0.0091808755093887"
      ],
      "text/plain": [
       "[1] 0.009180876"
      ]
     },
     "metadata": {},
     "output_type": "display_data"
    },
    {
     "data": {
      "text/html": [
       "0.0076636585520479"
      ],
      "text/latex": [
       "0.0076636585520479"
      ],
      "text/markdown": [
       "0.0076636585520479"
      ],
      "text/plain": [
       "[1] 0.007663659"
      ]
     },
     "metadata": {},
     "output_type": "display_data"
    },
    {
     "data": {
      "text/html": [
       "0.0233140612541053"
      ],
      "text/latex": [
       "0.0233140612541053"
      ],
      "text/markdown": [
       "0.0233140612541053"
      ],
      "text/plain": [
       "[1] 0.02331406"
      ]
     },
     "metadata": {},
     "output_type": "display_data"
    }
   ],
   "source": [
    "sd_link <- sd(data_link %>% pull(ConsumptionsOverImpressions))/sqrt(data_link %>% nrow())\n",
    "sd_link\n",
    "\n",
    "sd_photo <- sd(data_photo %>% pull(ConsumptionsOverImpressions))/sqrt(data_photo %>% nrow())\n",
    "sd_photo\n",
    "\n",
    "sd_status <- sd(data_status %>% pull(ConsumptionsOverImpressions))/sqrt(data_status %>% nrow())\n",
    "sd_status\n",
    "\n",
    "sd_video <- sd(data_video %>% pull(ConsumptionsOverImpressions))/sqrt(data_video %>% nrow())\n",
    "sd_video"
   ]
  },
  {
   "cell_type": "code",
   "execution_count": 11,
   "id": "1bbb28f0-914f-4147-a732-527944222b1c",
   "metadata": {},
   "outputs": [
    {
     "data": {
      "text/html": [
       "<table class=\"dataframe\">\n",
       "<caption>A tibble: 1 × 2</caption>\n",
       "<thead>\n",
       "\t<tr><th scope=col>lower_ci</th><th scope=col>upper_ci</th></tr>\n",
       "\t<tr><th scope=col>&lt;dbl&gt;</th><th scope=col>&lt;dbl&gt;</th></tr>\n",
       "</thead>\n",
       "<tbody>\n",
       "\t<tr><td>0.01600676</td><td>0.03589091</td></tr>\n",
       "</tbody>\n",
       "</table>\n"
      ],
      "text/latex": [
       "A tibble: 1 × 2\n",
       "\\begin{tabular}{ll}\n",
       " lower\\_ci & upper\\_ci\\\\\n",
       " <dbl> & <dbl>\\\\\n",
       "\\hline\n",
       "\t 0.01600676 & 0.03589091\\\\\n",
       "\\end{tabular}\n"
      ],
      "text/markdown": [
       "\n",
       "A tibble: 1 × 2\n",
       "\n",
       "| lower_ci &lt;dbl&gt; | upper_ci &lt;dbl&gt; |\n",
       "|---|---|\n",
       "| 0.01600676 | 0.03589091 |\n",
       "\n"
      ],
      "text/plain": [
       "  lower_ci   upper_ci  \n",
       "1 0.01600676 0.03589091"
      ]
     },
     "metadata": {},
     "output_type": "display_data"
    },
    {
     "data": {
      "text/html": [
       "<table class=\"dataframe\">\n",
       "<caption>A tibble: 1 × 2</caption>\n",
       "<thead>\n",
       "\t<tr><th scope=col>lower_ci</th><th scope=col>upper_ci</th></tr>\n",
       "\t<tr><th scope=col>&lt;dbl&gt;</th><th scope=col>&lt;dbl&gt;</th></tr>\n",
       "</thead>\n",
       "<tbody>\n",
       "\t<tr><td>0.108545</td><td>0.1387474</td></tr>\n",
       "</tbody>\n",
       "</table>\n"
      ],
      "text/latex": [
       "A tibble: 1 × 2\n",
       "\\begin{tabular}{ll}\n",
       " lower\\_ci & upper\\_ci\\\\\n",
       " <dbl> & <dbl>\\\\\n",
       "\\hline\n",
       "\t 0.108545 & 0.1387474\\\\\n",
       "\\end{tabular}\n"
      ],
      "text/markdown": [
       "\n",
       "A tibble: 1 × 2\n",
       "\n",
       "| lower_ci &lt;dbl&gt; | upper_ci &lt;dbl&gt; |\n",
       "|---|---|\n",
       "| 0.108545 | 0.1387474 |\n",
       "\n"
      ],
      "text/plain": [
       "  lower_ci upper_ci \n",
       "1 0.108545 0.1387474"
      ]
     },
     "metadata": {},
     "output_type": "display_data"
    },
    {
     "data": {
      "text/html": [
       "<table class=\"dataframe\">\n",
       "<caption>A tibble: 1 × 2</caption>\n",
       "<thead>\n",
       "\t<tr><th scope=col>lower_ci</th><th scope=col>upper_ci</th></tr>\n",
       "\t<tr><th scope=col>&lt;dbl&gt;</th><th scope=col>&lt;dbl&gt;</th></tr>\n",
       "</thead>\n",
       "<tbody>\n",
       "\t<tr><td>0.09605076</td><td>0.121262</td></tr>\n",
       "</tbody>\n",
       "</table>\n"
      ],
      "text/latex": [
       "A tibble: 1 × 2\n",
       "\\begin{tabular}{ll}\n",
       " lower\\_ci & upper\\_ci\\\\\n",
       " <dbl> & <dbl>\\\\\n",
       "\\hline\n",
       "\t 0.09605076 & 0.121262\\\\\n",
       "\\end{tabular}\n"
      ],
      "text/markdown": [
       "\n",
       "A tibble: 1 × 2\n",
       "\n",
       "| lower_ci &lt;dbl&gt; | upper_ci &lt;dbl&gt; |\n",
       "|---|---|\n",
       "| 0.09605076 | 0.121262 |\n",
       "\n"
      ],
      "text/plain": [
       "  lower_ci   upper_ci\n",
       "1 0.09605076 0.121262"
      ]
     },
     "metadata": {},
     "output_type": "display_data"
    },
    {
     "data": {
      "text/html": [
       "<table class=\"dataframe\">\n",
       "<caption>A tibble: 1 × 2</caption>\n",
       "<thead>\n",
       "\t<tr><th scope=col>lower_ci</th><th scope=col>upper_ci</th></tr>\n",
       "\t<tr><th scope=col>&lt;dbl&gt;</th><th scope=col>&lt;dbl&gt;</th></tr>\n",
       "</thead>\n",
       "<tbody>\n",
       "\t<tr><td>0.008028496</td><td>0.08472493</td></tr>\n",
       "</tbody>\n",
       "</table>\n"
      ],
      "text/latex": [
       "A tibble: 1 × 2\n",
       "\\begin{tabular}{ll}\n",
       " lower\\_ci & upper\\_ci\\\\\n",
       " <dbl> & <dbl>\\\\\n",
       "\\hline\n",
       "\t 0.008028496 & 0.08472493\\\\\n",
       "\\end{tabular}\n"
      ],
      "text/markdown": [
       "\n",
       "A tibble: 1 × 2\n",
       "\n",
       "| lower_ci &lt;dbl&gt; | upper_ci &lt;dbl&gt; |\n",
       "|---|---|\n",
       "| 0.008028496 | 0.08472493 |\n",
       "\n"
      ],
      "text/plain": [
       "  lower_ci    upper_ci  \n",
       "1 0.008028496 0.08472493"
      ]
     },
     "metadata": {},
     "output_type": "display_data"
    }
   ],
   "source": [
    "mean_ratio_link_ci <- tibble(\n",
    "    lower_ci = qnorm(0.05, mean_ratio_link, sd_link),\n",
    "    upper_ci = qnorm(0.95, mean_ratio_link, sd_link))\n",
    "mean_ratio_link_ci\n",
    "\n",
    "mean_ratio_photo_ci <- tibble(\n",
    "    lower_ci = qnorm(0.05, mean_ratio_photo, sd_photo),\n",
    "    upper_ci = qnorm(0.95, mean_ratio_photo, sd_photo))\n",
    "mean_ratio_photo_ci\n",
    "\n",
    "mean_ratio_status_ci <- tibble(\n",
    "    lower_ci = qnorm(0.05, mean_ratio_status, sd_status),\n",
    "    upper_ci = qnorm(0.95, mean_ratio_status, sd_status))\n",
    "mean_ratio_status_ci\n",
    "\n",
    "mean_ratio_video_ci <- tibble(\n",
    "    lower_ci = qnorm(0.05, mean_ratio_video, sd_video),\n",
    "    upper_ci = qnorm(0.95, mean_ratio_video, sd_video))\n",
    "mean_ratio_video_ci"
   ]
  },
  {
   "cell_type": "markdown",
   "id": "5db6b9f1-5b79-4494-8bd0-fb7d8108fa9c",
   "metadata": {},
   "source": [
    "**Analysis**\n",
    "\n",
    "- Unsurprisingly the **confidence interval for Video is the largest**. This is because we have only 7 observations with the type video and as a result we need a wider confidence interval. \n",
    "- Surprisingly **Link has the smallest confidence interval even though we have the most observations of type Photo**. This could be a result of random chance in the bootstrapping samples.\n",
    "- Since the **confidence interval for Photo and Status is clearly above the range of confidence interval for Link and Video**, we now have more conviction to say that these two are the more effective content types"
   ]
  },
  {
   "cell_type": "markdown",
   "id": "a7a1f2cb-6681-41fa-bc4c-34db87121795",
   "metadata": {},
   "source": [
    "#### 2.8 ANOVA Test"
   ]
  },
  {
   "cell_type": "markdown",
   "id": "9a6eddad-5328-4702-9d98-601705efe447",
   "metadata": {},
   "source": [
    "In order to examine if the type of post has an effect on the consumption / impression ratio we will run an ANOVA test on the data at a significance level of 5%. Because video type posts have such a small sample we will be omitting them from the hypothesis testing.\n",
    "- Null Hypothesis: All post types have equal Consumptions over Impressions\n",
    "- Alternative Hypothesis: At least one post type has a mean ratio different from the others"
   ]
  },
  {
   "cell_type": "code",
   "execution_count": 12,
   "id": "4e321844-b8d2-4286-8910-f5852a0fed0d",
   "metadata": {},
   "outputs": [
    {
     "data": {
      "text/html": [
       "<table class=\"dataframe\">\n",
       "<caption>A tibble: 3 × 2</caption>\n",
       "<thead>\n",
       "\t<tr><th scope=col>Type</th><th scope=col>var</th></tr>\n",
       "\t<tr><th scope=col>&lt;chr&gt;</th><th scope=col>&lt;dbl&gt;</th></tr>\n",
       "</thead>\n",
       "<tbody>\n",
       "\t<tr><td>Link  </td><td>0.000803752</td></tr>\n",
       "\t<tr><td>Photo </td><td>0.035906890</td></tr>\n",
       "\t<tr><td>Status</td><td>0.002642925</td></tr>\n",
       "</tbody>\n",
       "</table>\n"
      ],
      "text/latex": [
       "A tibble: 3 × 2\n",
       "\\begin{tabular}{ll}\n",
       " Type & var\\\\\n",
       " <chr> & <dbl>\\\\\n",
       "\\hline\n",
       "\t Link   & 0.000803752\\\\\n",
       "\t Photo  & 0.035906890\\\\\n",
       "\t Status & 0.002642925\\\\\n",
       "\\end{tabular}\n"
      ],
      "text/markdown": [
       "\n",
       "A tibble: 3 × 2\n",
       "\n",
       "| Type &lt;chr&gt; | var &lt;dbl&gt; |\n",
       "|---|---|\n",
       "| Link   | 0.000803752 |\n",
       "| Photo  | 0.035906890 |\n",
       "| Status | 0.002642925 |\n",
       "\n"
      ],
      "text/plain": [
       "  Type   var        \n",
       "1 Link   0.000803752\n",
       "2 Photo  0.035906890\n",
       "3 Status 0.002642925"
      ]
     },
     "metadata": {},
     "output_type": "display_data"
    }
   ],
   "source": [
    "variance_overall <- data_selected %>%\n",
    "    filter(Type != \"Video\") %>%\n",
    "    group_by(Type) %>%\n",
    "    summarise(var = var(ConsumptionsOverImpressions))\n",
    "variance_overall"
   ]
  },
  {
   "cell_type": "markdown",
   "id": "a8935c93-0ded-4d4e-931e-616832039910",
   "metadata": {},
   "source": [
    "As we can see above the variances are far from equal. Thus we need to specify the var.equal argument in the oneway.test function to false to account for this."
   ]
  },
  {
   "cell_type": "code",
   "execution_count": 13,
   "id": "eb6ac184-bc0b-47fa-90a6-843c77cea1bc",
   "metadata": {},
   "outputs": [
    {
     "name": "stderr",
     "output_type": "stream",
     "text": [
      "Multiple parameters; naming those columns num.df, den.df\n",
      "\n"
     ]
    },
    {
     "data": {
      "text/html": [
       "<table class=\"dataframe\">\n",
       "<caption>A tibble: 1 × 4</caption>\n",
       "<thead>\n",
       "\t<tr><th scope=col>num.df</th><th scope=col>den.df</th><th scope=col>statistic</th><th scope=col>p.value</th></tr>\n",
       "\t<tr><th scope=col>&lt;dbl&gt;</th><th scope=col>&lt;dbl&gt;</th><th scope=col>&lt;dbl&gt;</th><th scope=col>&lt;dbl&gt;</th></tr>\n",
       "</thead>\n",
       "<tbody>\n",
       "\t<tr><td>2</td><td>106.3503</td><td>55.92994</td><td>2.524082e-17</td></tr>\n",
       "</tbody>\n",
       "</table>\n"
      ],
      "text/latex": [
       "A tibble: 1 × 4\n",
       "\\begin{tabular}{llll}\n",
       " num.df & den.df & statistic & p.value\\\\\n",
       " <dbl> & <dbl> & <dbl> & <dbl>\\\\\n",
       "\\hline\n",
       "\t 2 & 106.3503 & 55.92994 & 2.524082e-17\\\\\n",
       "\\end{tabular}\n"
      ],
      "text/markdown": [
       "\n",
       "A tibble: 1 × 4\n",
       "\n",
       "| num.df &lt;dbl&gt; | den.df &lt;dbl&gt; | statistic &lt;dbl&gt; | p.value &lt;dbl&gt; |\n",
       "|---|---|---|---|\n",
       "| 2 | 106.3503 | 55.92994 | 2.524082e-17 |\n",
       "\n"
      ],
      "text/plain": [
       "  num.df den.df   statistic p.value     \n",
       "1 2      106.3503 55.92994  2.524082e-17"
      ]
     },
     "metadata": {},
     "output_type": "display_data"
    }
   ],
   "source": [
    "anova_result <- oneway.test(ConsumptionsOverImpressions ~ Type,\n",
    "    data = filter(data_selected, Type != \"Video\"),\n",
    "    var.equal = FALSE) %>%\n",
    "    tidy() %>%\n",
    "    select(-method)\n",
    "anova_result"
   ]
  },
  {
   "cell_type": "markdown",
   "id": "667c0fbe-a217-435b-9519-80f3feb629ab",
   "metadata": {},
   "source": [
    "We can reject the null hypothesis at a significance level of 5% meaning that there is sufficient evidence to suggest a statistical difference between at least one pair of ratios."
   ]
  },
  {
   "cell_type": "markdown",
   "id": "b6be4fb2-3a07-4fb4-ab00-a69cd76e663b",
   "metadata": {},
   "source": [
    "#### 2.9 T Tests"
   ]
  },
  {
   "cell_type": "markdown",
   "id": "47d79690-e2ba-40c9-af02-476d384974b0",
   "metadata": {},
   "source": [
    "In order to isolate the the differences we will be conducting T tests on the three types of posts (Photo, Link, Status) comparing them individually. For example we will compare Photo and link and then Photo and Status etc. Each test will share the Null and Alternative hypothesis listed below and be conducted at a 5% significance level.\n",
    "- Null Hypothesis: The mean ratios are equal\n",
    "- Alternative Hypothesis: The mean ratios are not equal"
   ]
  },
  {
   "cell_type": "code",
   "execution_count": 14,
   "id": "098fff38-a565-4551-a203-2b37fbd0c18d",
   "metadata": {},
   "outputs": [
    {
     "data": {
      "text/html": [
       "<table class=\"dataframe\">\n",
       "<caption>A tibble: 3 × 11</caption>\n",
       "<thead>\n",
       "\t<tr><th scope=col>estimate</th><th scope=col>estimate1</th><th scope=col>estimate2</th><th scope=col>statistic</th><th scope=col>p.value</th><th scope=col>parameter</th><th scope=col>conf.low</th><th scope=col>conf.high</th><th scope=col>method</th><th scope=col>alternative</th><th scope=col>Tested_Types</th></tr>\n",
       "\t<tr><th scope=col>&lt;dbl&gt;</th><th scope=col>&lt;dbl&gt;</th><th scope=col>&lt;dbl&gt;</th><th scope=col>&lt;dbl&gt;</th><th scope=col>&lt;dbl&gt;</th><th scope=col>&lt;dbl&gt;</th><th scope=col>&lt;dbl&gt;</th><th scope=col>&lt;dbl&gt;</th><th scope=col>&lt;chr&gt;</th><th scope=col>&lt;chr&gt;</th><th scope=col>&lt;chr&gt;</th></tr>\n",
       "</thead>\n",
       "<tbody>\n",
       "\t<tr><td>0.09769741</td><td>0.1236462</td><td>0.02594883</td><td>8.888098</td><td>6.024997e-16</td><td>181.84920</td><td> 0.076009272</td><td>0.11938554</td><td>Welch Two Sample t-test</td><td>two.sided</td><td>Photo Link  </td></tr>\n",
       "\t<tr><td>0.01498988</td><td>0.1236462</td><td>0.10865636</td><td>1.253429</td><td>2.114107e-01</td><td>215.05922</td><td>-0.008582179</td><td>0.03856194</td><td>Welch Two Sample t-test</td><td>two.sided</td><td>Photo Status</td></tr>\n",
       "\t<tr><td>0.08270752</td><td>0.1086564</td><td>0.02594883</td><td>8.473765</td><td>4.761239e-12</td><td> 63.93281</td><td> 0.063208443</td><td>0.10220660</td><td>Welch Two Sample t-test</td><td>two.sided</td><td>Status Link </td></tr>\n",
       "</tbody>\n",
       "</table>\n"
      ],
      "text/latex": [
       "A tibble: 3 × 11\n",
       "\\begin{tabular}{lllllllllll}\n",
       " estimate & estimate1 & estimate2 & statistic & p.value & parameter & conf.low & conf.high & method & alternative & Tested\\_Types\\\\\n",
       " <dbl> & <dbl> & <dbl> & <dbl> & <dbl> & <dbl> & <dbl> & <dbl> & <chr> & <chr> & <chr>\\\\\n",
       "\\hline\n",
       "\t 0.09769741 & 0.1236462 & 0.02594883 & 8.888098 & 6.024997e-16 & 181.84920 &  0.076009272 & 0.11938554 & Welch Two Sample t-test & two.sided & Photo Link  \\\\\n",
       "\t 0.01498988 & 0.1236462 & 0.10865636 & 1.253429 & 2.114107e-01 & 215.05922 & -0.008582179 & 0.03856194 & Welch Two Sample t-test & two.sided & Photo Status\\\\\n",
       "\t 0.08270752 & 0.1086564 & 0.02594883 & 8.473765 & 4.761239e-12 &  63.93281 &  0.063208443 & 0.10220660 & Welch Two Sample t-test & two.sided & Status Link \\\\\n",
       "\\end{tabular}\n"
      ],
      "text/markdown": [
       "\n",
       "A tibble: 3 × 11\n",
       "\n",
       "| estimate &lt;dbl&gt; | estimate1 &lt;dbl&gt; | estimate2 &lt;dbl&gt; | statistic &lt;dbl&gt; | p.value &lt;dbl&gt; | parameter &lt;dbl&gt; | conf.low &lt;dbl&gt; | conf.high &lt;dbl&gt; | method &lt;chr&gt; | alternative &lt;chr&gt; | Tested_Types &lt;chr&gt; |\n",
       "|---|---|---|---|---|---|---|---|---|---|---|\n",
       "| 0.09769741 | 0.1236462 | 0.02594883 | 8.888098 | 6.024997e-16 | 181.84920 |  0.076009272 | 0.11938554 | Welch Two Sample t-test | two.sided | Photo Link   |\n",
       "| 0.01498988 | 0.1236462 | 0.10865636 | 1.253429 | 2.114107e-01 | 215.05922 | -0.008582179 | 0.03856194 | Welch Two Sample t-test | two.sided | Photo Status |\n",
       "| 0.08270752 | 0.1086564 | 0.02594883 | 8.473765 | 4.761239e-12 |  63.93281 |  0.063208443 | 0.10220660 | Welch Two Sample t-test | two.sided | Status Link  |\n",
       "\n"
      ],
      "text/plain": [
       "  estimate   estimate1 estimate2  statistic p.value      parameter conf.low    \n",
       "1 0.09769741 0.1236462 0.02594883 8.888098  6.024997e-16 181.84920  0.076009272\n",
       "2 0.01498988 0.1236462 0.10865636 1.253429  2.114107e-01 215.05922 -0.008582179\n",
       "3 0.08270752 0.1086564 0.02594883 8.473765  4.761239e-12  63.93281  0.063208443\n",
       "  conf.high  method                  alternative Tested_Types\n",
       "1 0.11938554 Welch Two Sample t-test two.sided   Photo Link  \n",
       "2 0.03856194 Welch Two Sample t-test two.sided   Photo Status\n",
       "3 0.10220660 Welch Two Sample t-test two.sided   Status Link "
      ]
     },
     "metadata": {},
     "output_type": "display_data"
    }
   ],
   "source": [
    "photo_link <- t.test(x = data_selected %>% filter(Type == \"Photo\") %>% pull(ConsumptionsOverImpressions),\n",
    "                     y = data_selected %>% filter(Type == \"Link\") %>% pull(ConsumptionsOverImpressions),\n",
    "                     alternative = \"two.sided\") %>%\n",
    "                tidy()\n",
    "\n",
    "photo_status <- t.test(x = data_selected %>% filter(Type == \"Photo\") %>% pull(ConsumptionsOverImpressions),\n",
    "                     y = data_selected %>% filter(Type == \"Status\") %>% pull(ConsumptionsOverImpressions),\n",
    "                     alternative = \"two.sided\") %>%\n",
    "                tidy()\n",
    "\n",
    "status_link <- t.test(x = data_selected %>% filter(Type == \"Status\") %>% pull(ConsumptionsOverImpressions),\n",
    "                     y = data_selected %>% filter(Type == \"Link\") %>% pull(ConsumptionsOverImpressions),\n",
    "                     alternative = \"two.sided\") %>%\n",
    "                tidy()\n",
    "\n",
    "t_test <- bind_rows(photo_link, photo_status, status_link) %>%\n",
    "    add_column(Tested_Types = c(\"Photo Link\", \"Photo Status\", \"Status Link\"))\n",
    "\n",
    "t_test"
   ]
  },
  {
   "cell_type": "markdown",
   "id": "03f94b19-d57b-41d6-885b-c16a50bc25c2",
   "metadata": {},
   "source": [
    "Above we see that we can reject the null hypothesis for both Photo Link and Status Link tests. This means that we expect a difference in the ratios of Photo and Link and between Status and Link posts whereas there is insufficient evidence to detect a similar difference between Photo and Status.\n",
    "\n",
    "Finally as our original plan was to infer if a specific type of post was better than others we will be conducting two final T Tests on the pairs where a statistical difference was inferred (Photo and Link, Status and Link). Recall that a larger ratio means that a post is getting more clicks per exposure and is thus more effective at reaching the audience.\n",
    "\n",
    "**Photo And Link**\n",
    "- Null Hypothesis: The test ratio of photo posts equals that of link posts\n",
    "- Alternative Hypothesis: The test ratio of photo posts is greater than that of link posts\n",
    "\n",
    "**Status And Link**\n",
    "- Null Hypothesis: The test ratio of Status posts equals that of link posts\n",
    "- Alternative Hypothesis: The test ratio of Status posts is greater than that of link posts"
   ]
  },
  {
   "cell_type": "code",
   "execution_count": 15,
   "id": "cd37dad9-8b44-493a-a94d-cb984a804c6e",
   "metadata": {},
   "outputs": [
    {
     "data": {
      "text/html": [
       "<table class=\"dataframe\">\n",
       "<caption>A tibble: 2 × 11</caption>\n",
       "<thead>\n",
       "\t<tr><th scope=col>estimate</th><th scope=col>estimate1</th><th scope=col>estimate2</th><th scope=col>statistic</th><th scope=col>p.value</th><th scope=col>parameter</th><th scope=col>conf.low</th><th scope=col>conf.high</th><th scope=col>method</th><th scope=col>alternative</th><th scope=col>Tested_Types</th></tr>\n",
       "\t<tr><th scope=col>&lt;dbl&gt;</th><th scope=col>&lt;dbl&gt;</th><th scope=col>&lt;dbl&gt;</th><th scope=col>&lt;dbl&gt;</th><th scope=col>&lt;dbl&gt;</th><th scope=col>&lt;dbl&gt;</th><th scope=col>&lt;dbl&gt;</th><th scope=col>&lt;dbl&gt;</th><th scope=col>&lt;chr&gt;</th><th scope=col>&lt;chr&gt;</th><th scope=col>&lt;chr&gt;</th></tr>\n",
       "</thead>\n",
       "<tbody>\n",
       "\t<tr><td>0.09769741</td><td>0.1236462</td><td>0.02594883</td><td>8.888098</td><td>3.012498e-16</td><td>181.84920</td><td>0.0795247</td><td>Inf</td><td>Welch Two Sample t-test</td><td>greater</td><td>Photo Link </td></tr>\n",
       "\t<tr><td>0.08270752</td><td>0.1086564</td><td>0.02594883</td><td>8.473765</td><td>2.380620e-12</td><td> 63.93281</td><td>0.0664170</td><td>Inf</td><td>Welch Two Sample t-test</td><td>greater</td><td>Status Link</td></tr>\n",
       "</tbody>\n",
       "</table>\n"
      ],
      "text/latex": [
       "A tibble: 2 × 11\n",
       "\\begin{tabular}{lllllllllll}\n",
       " estimate & estimate1 & estimate2 & statistic & p.value & parameter & conf.low & conf.high & method & alternative & Tested\\_Types\\\\\n",
       " <dbl> & <dbl> & <dbl> & <dbl> & <dbl> & <dbl> & <dbl> & <dbl> & <chr> & <chr> & <chr>\\\\\n",
       "\\hline\n",
       "\t 0.09769741 & 0.1236462 & 0.02594883 & 8.888098 & 3.012498e-16 & 181.84920 & 0.0795247 & Inf & Welch Two Sample t-test & greater & Photo Link \\\\\n",
       "\t 0.08270752 & 0.1086564 & 0.02594883 & 8.473765 & 2.380620e-12 &  63.93281 & 0.0664170 & Inf & Welch Two Sample t-test & greater & Status Link\\\\\n",
       "\\end{tabular}\n"
      ],
      "text/markdown": [
       "\n",
       "A tibble: 2 × 11\n",
       "\n",
       "| estimate &lt;dbl&gt; | estimate1 &lt;dbl&gt; | estimate2 &lt;dbl&gt; | statistic &lt;dbl&gt; | p.value &lt;dbl&gt; | parameter &lt;dbl&gt; | conf.low &lt;dbl&gt; | conf.high &lt;dbl&gt; | method &lt;chr&gt; | alternative &lt;chr&gt; | Tested_Types &lt;chr&gt; |\n",
       "|---|---|---|---|---|---|---|---|---|---|---|\n",
       "| 0.09769741 | 0.1236462 | 0.02594883 | 8.888098 | 3.012498e-16 | 181.84920 | 0.0795247 | Inf | Welch Two Sample t-test | greater | Photo Link  |\n",
       "| 0.08270752 | 0.1086564 | 0.02594883 | 8.473765 | 2.380620e-12 |  63.93281 | 0.0664170 | Inf | Welch Two Sample t-test | greater | Status Link |\n",
       "\n"
      ],
      "text/plain": [
       "  estimate   estimate1 estimate2  statistic p.value      parameter conf.low \n",
       "1 0.09769741 0.1236462 0.02594883 8.888098  3.012498e-16 181.84920 0.0795247\n",
       "2 0.08270752 0.1086564 0.02594883 8.473765  2.380620e-12  63.93281 0.0664170\n",
       "  conf.high method                  alternative Tested_Types\n",
       "1 Inf       Welch Two Sample t-test greater     Photo Link  \n",
       "2 Inf       Welch Two Sample t-test greater     Status Link "
      ]
     },
     "metadata": {},
     "output_type": "display_data"
    }
   ],
   "source": [
    "photo_link_greater <- t.test(x = data_selected %>% filter(Type == \"Photo\") %>% pull(ConsumptionsOverImpressions),\n",
    "                     y = data_selected %>% filter(Type == \"Link\") %>% pull(ConsumptionsOverImpressions),\n",
    "                     alternative = \"greater\") %>%\n",
    "                tidy()\n",
    "\n",
    "status_link_greater <- t.test(x = data_selected %>% filter(Type == \"Status\") %>% pull(ConsumptionsOverImpressions),\n",
    "                     y = data_selected %>% filter(Type == \"Link\") %>% pull(ConsumptionsOverImpressions),\n",
    "                     alternative = \"greater\") %>%\n",
    "                tidy()\n",
    "t_test_greater <- bind_rows(photo_link_greater, status_link_greater) %>%\n",
    "    add_column(Tested_Types = c(\"Photo Link\", \"Status Link\"))\n",
    "t_test_greater"
   ]
  },
  {
   "cell_type": "markdown",
   "id": "77f29bf0-536d-433e-a7fb-bd3ed5c38f62",
   "metadata": {},
   "source": [
    "As we can see in both cases we are able to reject the null at a significance level of 5%. This means there is evidence to suggest that both photo and status type posts are better at reaching the audience than link posts."
   ]
  },
  {
   "cell_type": "markdown",
   "id": "2805004e",
   "metadata": {},
   "source": [
    "## 3. Methods: Plan"
   ]
  },
  {
   "cell_type": "markdown",
   "id": "1029910e",
   "metadata": {},
   "source": [
    "#### 3.1 Methods & Plan"
   ]
  },
  {
   "cell_type": "markdown",
   "id": "01a0d14c-01fb-4350-8798-8ae6acb96fa8",
   "metadata": {},
   "source": [
    "Our project aims to tackle a critical issue in digital advertising, and we aim to provide a more in-depth perspective built on research paper by Moro (Moro et al., 2016). We have made taken steps to select a representative data set, clean & wrangle data and identify the most relevant variable to analyze. Through basic data exploratory and bootstrapping, the preliminary assumption have aligned with the statistical evidence. \n",
    "  \n",
    "  However, since there are variance between our bootstrap estimates and population parameter, our charts and estimates will not suffice. Therefore, we plan to communicate the uncertainty of our estimates by constructing and visualizing 95% confidence intervals for each content type. We then will proceed with hypothesis testing to get the statistical evidence to confirm that Photo and Status are the most effective content types."
   ]
  },
  {
   "cell_type": "markdown",
   "id": "5c814d8c-987f-4929-8dfc-58a955ccaec8",
   "metadata": {},
   "source": [
    "#### 3.2 Implication of Research"
   ]
  },
  {
   "cell_type": "markdown",
   "id": "207b73db-7fc4-4580-8207-55885db1b1d5",
   "metadata": {},
   "source": [
    " Understanding which type of content will engage customers the most will allow companies to best allocate their advertising budget. There are two future questions to analyze more:\n",
    "   - Would different types of products being advertise (such as clothes, food, education) have an effect on Consumption/Impression ratio?\n",
    "   - Would video and photo still be the most effective type of content on other platforms? For example, we have Instagram story, TikTok short videos and even LinkedIn advertisement. All can change the dynamics of a social media platform and thus affect what type would work best."
   ]
  },
  {
   "cell_type": "markdown",
   "id": "00033d32-d888-46b2-8e89-3a703d42a9f3",
   "metadata": {},
   "source": [
    "## 4. Discussion"
   ]
  },
  {
   "cell_type": "markdown",
   "id": "61da4f8a-9313-4cb5-9986-4decfef30f8f",
   "metadata": {},
   "source": [
    "#### 4.1 Implication of Research"
   ]
  },
  {
   "cell_type": "markdown",
   "id": "bda7e686-7f71-49ff-9103-797c2cff440c",
   "metadata": {},
   "source": [
    "Our analysis of the 500 different Facebook posts (cosmetics brand) showed that the types of Photos and Status have a higher Consumption/Impression ratio, which are relatively more effective ways to attract consumers compared with other types of content. As analyzed in the previous sections, we focused on four different content delivers involving Video, Photo, Status, and Link, and we found that the mean ratios (consumptions over impressions) of Photo and Status are both greater than 0.1, which are 0.1236 and 0.1087 respectively. Their results are much higher than the other two types. After finding these mean ratios of the dataset, our group also calculated their confidence interval by bootstrapping. Although the observations of the photo are most in our dataset, confidence intervals for Photo and Status are clearly above the range of confidence intervals for Link and Video. We are 95% confident that the mean ratios of the photo fall between 0.1088 and 0.1398, and the status’ falls between 0.0964 and 0.1206. In addition, to make our research more reliable, an ANOVA test at a significance level of 5% was applied, which can help determine if the different types of posts have different effects on the consumption/impression ratio. The null hypothesis is all post types have an equal mean ratio while the alternative hypothesis is at least one post type has a mean ratio different from the others. Our group found that the p-value is 2.524082e-17, therefore, the null hypothesis can be rejected at a significance level of 5%. From our findings, we can conclude that there is sufficient evidence to suggest a statistical difference between at least one pair of ratios. Continually, we conducted two T-tests on two pairs: Photo and Link, Status and Link, to determine if there is a significant difference between the means of the two groups. Since their p-values are 3.012498e-16 and 2.380620e-12, our group can reject the null at a significance level of 5%. Therefore, there is sufficient evidence to suggest that both photo and status type posts are better at reaching the audience than link posts. However, we cannot get the difference between photos and status. Our results were what we expected to find, which lead to the determination of photos and status have a relatively higher Consumptions/Impressions ratio and there is enough statistical evidence to pinpoint they are more effective to attract consumers when advertising cosmetics. Our findings can lead to a positive impact on suggesting to cosmetics companies that the photo and status contents are the most effective ways to advertise their products and allow them to best allocate their advertising budget."
   ]
  },
  {
   "cell_type": "markdown",
   "id": "ef5e33b3-58a7-49aa-a52b-4ab0f3867e48",
   "metadata": {},
   "source": [
    "#### 4.2 Limitation"
   ]
  },
  {
   "cell_type": "markdown",
   "id": "0656b5f2-8857-4026-bcb5-07fc52868752",
   "metadata": {},
   "source": [
    "The sample size of the video-type posts is too small, which only has seven observations. Since small simple size can increase the margin of error and render the study meaningless, this type of Facebook content deliver cannot play a constructive role when analysis We got the highest confidence interval for videos and our group decided to omit them from the hypothesis testing. "
   ]
  },
  {
   "cell_type": "markdown",
   "id": "dda9d791-60ca-49a5-972f-3cd0c366e911",
   "metadata": {},
   "source": [
    "#### 4.3 Future questions"
   ]
  },
  {
   "cell_type": "markdown",
   "id": "4be72734-4629-4cf4-99e2-74b4937ac31b",
   "metadata": {},
   "source": [
    "There are two future questions to analyze more:\n",
    "- Would different types of products being advertise (such as clothes, food, education) have an effect on Consumption/Impression ratio?\n",
    "- Would video and photo still be the most effective type of content on other platforms? For example, we have Instagram story, TikTok short videos and even LinkedIn advertisement. All can change the dynamics of a social media platform and thus affect what type would work best."
   ]
  },
  {
   "cell_type": "markdown",
   "id": "b4503dda",
   "metadata": {},
   "source": [
    "## 5. References"
   ]
  },
  {
   "cell_type": "markdown",
   "id": "32176162",
   "metadata": {},
   "source": [
    "1. Moro, S., Rita, P., & Vala, B. (2016). Predicting social media performance metrics and evaluation of the impact on brand building: A data mining approach. *Journal of Business Research*, 69(9), 3341-3351. https://doi.org/10.1016/j.jbusres.2016.02.010 \n",
    "2. Shaw, A. (2018). How social media can move your business forward. *Forbes*. https://www.forbes.com/sites/forbescommunicationscouncil/2018/05/11/how-social-media-can-move-your-business-forward/?sh=f3f47264cf2b\n",
    "3. Sheerin, ., Patel, S., Oundjian, A. & Leon, H. (2020). Digital marketers race to meet the needs of a new era. *Boston Consulting Group*. https://www.bcg.com/publications/2020/digital-marketers-race-to-meet-the-needs-of-growing-online-agendas\n"
   ]
  }
 ],
 "metadata": {
  "kernelspec": {
   "display_name": "R",
   "language": "R",
   "name": "ir"
  },
  "language_info": {
   "codemirror_mode": "r",
   "file_extension": ".r",
   "mimetype": "text/x-r-source",
   "name": "R",
   "pygments_lexer": "r",
   "version": "4.1.2"
  }
 },
 "nbformat": 4,
 "nbformat_minor": 5
}

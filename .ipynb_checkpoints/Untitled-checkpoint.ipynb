{
 "cells": [
  {
   "cell_type": "code",
   "execution_count": null,
   "id": "3e4b9bb6-2846-47fc-b541-b568ab718212",
   "metadata": {},
   "outputs": [],
   "source": [
    "Proposal "
   ]
  }
 ],
 "metadata": {
  "kernelspec": {
   "display_name": "R",
   "language": "R",
   "name": "ir"
  },
  "language_info": {
   "codemirror_mode": "r",
   "file_extension": ".r",
   "mimetype": "text/x-r-source",
   "name": "R",
   "pygments_lexer": "r",
   "version": "4.1.2"
  }
 },
 "nbformat": 4,
 "nbformat_minor": 5
}
